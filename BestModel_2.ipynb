{
  "cells": [
    {
      "cell_type": "code",
      "execution_count": null,
      "metadata": {
        "id": "XJiwh4BwYpQ3"
      },
      "outputs": [],
      "source": [
        "import pandas as pd\n",
        "import numpy as np"
      ]
    },
    {
      "cell_type": "markdown",
      "metadata": {
        "id": "hOJFC1VYfugk"
      },
      "source": [
        "Load the Data set"
      ]
    },
    {
      "cell_type": "code",
      "execution_count": null,
      "metadata": {
        "id": "uIkEwcutYsh9"
      },
      "outputs": [],
      "source": [
        "train  =  pd.read_csv(\"/content/Sales_forecasting_train.csv\")\n",
        "test   = pd.read_csv(\"/content/Sales_forecasting_test.csv\") #Predcition dataset\n",
        "EcoIndicators = pd.read_csv(\"/content/EconomicIndicators.csv\")"
      ]
    },
    {
      "cell_type": "code",
      "execution_count": null,
      "metadata": {
        "colab": {
          "base_uri": "https://localhost:8080/",
          "height": 310
        },
        "id": "-iqEWZScfykP",
        "outputId": "35548d9f-3a9e-45eb-f4e5-0d4bc76061ca"
      },
      "outputs": [
        {
          "data": {
            "application/vnd.google.colaboratory.intrinsic+json": {
              "summary": "{\n  \"name\": \"train\",\n  \"rows\": 675,\n  \"fields\": [\n    {\n      \"column\": \"ID\",\n      \"properties\": {\n        \"dtype\": \"number\",\n        \"std\": 204,\n        \"min\": 0,\n        \"max\": 674,\n        \"num_unique_values\": 559,\n        \"samples\": [\n          202,\n          579,\n          69\n        ],\n        \"semantic_type\": \"\",\n        \"description\": \"\"\n      }\n    },\n    {\n      \"column\": \"Company\",\n      \"properties\": {\n        \"dtype\": \"category\",\n        \"num_unique_values\": 75,\n        \"samples\": [\n          \"CMP05\",\n          \"CMP64\",\n          \"CMP11\"\n        ],\n        \"semantic_type\": \"\",\n        \"description\": \"\"\n      }\n    },\n    {\n      \"column\": \"Quarter\",\n      \"properties\": {\n        \"dtype\": \"category\",\n        \"num_unique_values\": 9,\n        \"samples\": [\n          \"Q8\",\n          \"Q2\",\n          \"Q6\"\n        ],\n        \"semantic_type\": \"\",\n        \"description\": \"\"\n      }\n    },\n    {\n      \"column\": \"QuickRatio\",\n      \"properties\": {\n        \"dtype\": \"number\",\n        \"std\": 0.5956152941580789,\n        \"min\": 0.5,\n        \"max\": 2.49,\n        \"num_unique_values\": 170,\n        \"samples\": [\n          1.89,\n          1.69,\n          1.42\n        ],\n        \"semantic_type\": \"\",\n        \"description\": \"\"\n      }\n    },\n    {\n      \"column\": \"InventoryRatio\",\n      \"properties\": {\n        \"dtype\": \"number\",\n        \"std\": 3.1086438219466723,\n        \"min\": 1.26,\n        \"max\": 24.84,\n        \"num_unique_values\": 292,\n        \"samples\": [\n          9.53,\n          5.41,\n          5.2\n        ],\n        \"semantic_type\": \"\",\n        \"description\": \"\"\n      }\n    },\n    {\n      \"column\": \"RevenueGrowth\",\n      \"properties\": {\n        \"dtype\": \"number\",\n        \"std\": 0.06739044301745628,\n        \"min\": -0.2,\n        \"max\": 0.08,\n        \"num_unique_values\": 29,\n        \"samples\": [\n          -0.16,\n          -0.1,\n          -0.14\n        ],\n        \"semantic_type\": \"\",\n        \"description\": \"\"\n      }\n    },\n    {\n      \"column\": \"MarketshareChange\",\n      \"properties\": {\n        \"dtype\": \"number\",\n        \"std\": 0.01762234641264189,\n        \"min\": -0.05,\n        \"max\": 0.02,\n        \"num_unique_values\": 8,\n        \"samples\": [\n          0.0,\n          -0.01,\n          -0.04\n        ],\n        \"semantic_type\": \"\",\n        \"description\": \"\"\n      }\n    },\n    {\n      \"column\": \"Bond rating\",\n      \"properties\": {\n        \"dtype\": \"category\",\n        \"num_unique_values\": 7,\n        \"samples\": [\n          \"CCC\",\n          \"AAA\",\n          \"BB\"\n        ],\n        \"semantic_type\": \"\",\n        \"description\": \"\"\n      }\n    },\n    {\n      \"column\": \"Stock rating\",\n      \"properties\": {\n        \"dtype\": \"category\",\n        \"num_unique_values\": 5,\n        \"samples\": [\n          \"Hold\",\n          \"Strong Buy\",\n          \"Strong Sell\"\n        ],\n        \"semantic_type\": \"\",\n        \"description\": \"\"\n      }\n    },\n    {\n      \"column\": \"Region\",\n      \"properties\": {\n        \"dtype\": \"category\",\n        \"num_unique_values\": 4,\n        \"samples\": [\n          \"West\",\n          \"North\",\n          \"South\"\n        ],\n        \"semantic_type\": \"\",\n        \"description\": \"\"\n      }\n    },\n    {\n      \"column\": \"Industry\",\n      \"properties\": {\n        \"dtype\": \"category\",\n        \"num_unique_values\": 3,\n        \"samples\": [\n          \"Metal Fabrication\",\n          \"Infrastructure\",\n          \"Automobile\"\n        ],\n        \"semantic_type\": \"\",\n        \"description\": \"\"\n      }\n    },\n    {\n      \"column\": \"Sales\",\n      \"properties\": {\n        \"dtype\": \"number\",\n        \"std\": 2028.059367596297,\n        \"min\": 864.0,\n        \"max\": 11686.0,\n        \"num_unique_values\": 489,\n        \"samples\": [\n          4745.0,\n          2750.0,\n          1741.0\n        ],\n        \"semantic_type\": \"\",\n        \"description\": \"\"\n      }\n    }\n  ]\n}",
              "type": "dataframe",
              "variable_name": "train"
            },
            "text/html": [
              "\n",
              "  <div id=\"df-1102735e-2f44-48c1-913b-85bba49f780e\" class=\"colab-df-container\">\n",
              "    <div>\n",
              "<style scoped>\n",
              "    .dataframe tbody tr th:only-of-type {\n",
              "        vertical-align: middle;\n",
              "    }\n",
              "\n",
              "    .dataframe tbody tr th {\n",
              "        vertical-align: top;\n",
              "    }\n",
              "\n",
              "    .dataframe thead th {\n",
              "        text-align: right;\n",
              "    }\n",
              "</style>\n",
              "<table border=\"1\" class=\"dataframe\">\n",
              "  <thead>\n",
              "    <tr style=\"text-align: right;\">\n",
              "      <th></th>\n",
              "      <th>ID</th>\n",
              "      <th>Company</th>\n",
              "      <th>Quarter</th>\n",
              "      <th>QuickRatio</th>\n",
              "      <th>InventoryRatio</th>\n",
              "      <th>RevenueGrowth</th>\n",
              "      <th>MarketshareChange</th>\n",
              "      <th>Bond rating</th>\n",
              "      <th>Stock rating</th>\n",
              "      <th>Region</th>\n",
              "      <th>Industry</th>\n",
              "      <th>Sales</th>\n",
              "    </tr>\n",
              "  </thead>\n",
              "  <tbody>\n",
              "    <tr>\n",
              "      <th>0</th>\n",
              "      <td>0</td>\n",
              "      <td>CMP01</td>\n",
              "      <td>Q1</td>\n",
              "      <td>2.02</td>\n",
              "      <td>7.71</td>\n",
              "      <td>0.05</td>\n",
              "      <td>-0.04</td>\n",
              "      <td>CCC</td>\n",
              "      <td>Buy</td>\n",
              "      <td>South</td>\n",
              "      <td>Metal Fabrication</td>\n",
              "      <td>1517.0</td>\n",
              "    </tr>\n",
              "    <tr>\n",
              "      <th>1</th>\n",
              "      <td>1</td>\n",
              "      <td>CMP01</td>\n",
              "      <td>Q2</td>\n",
              "      <td>2.01</td>\n",
              "      <td>4.10</td>\n",
              "      <td>0.03</td>\n",
              "      <td>0.00</td>\n",
              "      <td>CCC</td>\n",
              "      <td>Hold</td>\n",
              "      <td>South</td>\n",
              "      <td>Metal Fabrication</td>\n",
              "      <td>2968.0</td>\n",
              "    </tr>\n",
              "    <tr>\n",
              "      <th>2</th>\n",
              "      <td>2</td>\n",
              "      <td>CMP01</td>\n",
              "      <td>Q3</td>\n",
              "      <td>2.02</td>\n",
              "      <td>6.79</td>\n",
              "      <td>0.06</td>\n",
              "      <td>-0.02</td>\n",
              "      <td>CCC</td>\n",
              "      <td>Buy</td>\n",
              "      <td>South</td>\n",
              "      <td>Metal Fabrication</td>\n",
              "      <td>1497.0</td>\n",
              "    </tr>\n",
              "    <tr>\n",
              "      <th>3</th>\n",
              "      <td>3</td>\n",
              "      <td>CMP01</td>\n",
              "      <td>Q4</td>\n",
              "      <td>1.98</td>\n",
              "      <td>3.97</td>\n",
              "      <td>0.01</td>\n",
              "      <td>0.02</td>\n",
              "      <td>CCC</td>\n",
              "      <td>Buy</td>\n",
              "      <td>South</td>\n",
              "      <td>Metal Fabrication</td>\n",
              "      <td>2929.0</td>\n",
              "    </tr>\n",
              "    <tr>\n",
              "      <th>4</th>\n",
              "      <td>4</td>\n",
              "      <td>CMP01</td>\n",
              "      <td>Q5</td>\n",
              "      <td>1.96</td>\n",
              "      <td>7.41</td>\n",
              "      <td>-0.07</td>\n",
              "      <td>0.02</td>\n",
              "      <td>CCC</td>\n",
              "      <td>Buy</td>\n",
              "      <td>South</td>\n",
              "      <td>Metal Fabrication</td>\n",
              "      <td>1452.0</td>\n",
              "    </tr>\n",
              "  </tbody>\n",
              "</table>\n",
              "</div>\n",
              "    <div class=\"colab-df-buttons\">\n",
              "\n",
              "  <div class=\"colab-df-container\">\n",
              "    <button class=\"colab-df-convert\" onclick=\"convertToInteractive('df-1102735e-2f44-48c1-913b-85bba49f780e')\"\n",
              "            title=\"Convert this dataframe to an interactive table.\"\n",
              "            style=\"display:none;\">\n",
              "\n",
              "  <svg xmlns=\"http://www.w3.org/2000/svg\" height=\"24px\" viewBox=\"0 -960 960 960\">\n",
              "    <path d=\"M120-120v-720h720v720H120Zm60-500h600v-160H180v160Zm220 220h160v-160H400v160Zm0 220h160v-160H400v160ZM180-400h160v-160H180v160Zm440 0h160v-160H620v160ZM180-180h160v-160H180v160Zm440 0h160v-160H620v160Z\"/>\n",
              "  </svg>\n",
              "    </button>\n",
              "\n",
              "  <style>\n",
              "    .colab-df-container {\n",
              "      display:flex;\n",
              "      gap: 12px;\n",
              "    }\n",
              "\n",
              "    .colab-df-convert {\n",
              "      background-color: #E8F0FE;\n",
              "      border: none;\n",
              "      border-radius: 50%;\n",
              "      cursor: pointer;\n",
              "      display: none;\n",
              "      fill: #1967D2;\n",
              "      height: 32px;\n",
              "      padding: 0 0 0 0;\n",
              "      width: 32px;\n",
              "    }\n",
              "\n",
              "    .colab-df-convert:hover {\n",
              "      background-color: #E2EBFA;\n",
              "      box-shadow: 0px 1px 2px rgba(60, 64, 67, 0.3), 0px 1px 3px 1px rgba(60, 64, 67, 0.15);\n",
              "      fill: #174EA6;\n",
              "    }\n",
              "\n",
              "    .colab-df-buttons div {\n",
              "      margin-bottom: 4px;\n",
              "    }\n",
              "\n",
              "    [theme=dark] .colab-df-convert {\n",
              "      background-color: #3B4455;\n",
              "      fill: #D2E3FC;\n",
              "    }\n",
              "\n",
              "    [theme=dark] .colab-df-convert:hover {\n",
              "      background-color: #434B5C;\n",
              "      box-shadow: 0px 1px 3px 1px rgba(0, 0, 0, 0.15);\n",
              "      filter: drop-shadow(0px 1px 2px rgba(0, 0, 0, 0.3));\n",
              "      fill: #FFFFFF;\n",
              "    }\n",
              "  </style>\n",
              "\n",
              "    <script>\n",
              "      const buttonEl =\n",
              "        document.querySelector('#df-1102735e-2f44-48c1-913b-85bba49f780e button.colab-df-convert');\n",
              "      buttonEl.style.display =\n",
              "        google.colab.kernel.accessAllowed ? 'block' : 'none';\n",
              "\n",
              "      async function convertToInteractive(key) {\n",
              "        const element = document.querySelector('#df-1102735e-2f44-48c1-913b-85bba49f780e');\n",
              "        const dataTable =\n",
              "          await google.colab.kernel.invokeFunction('convertToInteractive',\n",
              "                                                    [key], {});\n",
              "        if (!dataTable) return;\n",
              "\n",
              "        const docLinkHtml = 'Like what you see? Visit the ' +\n",
              "          '<a target=\"_blank\" href=https://colab.research.google.com/notebooks/data_table.ipynb>data table notebook</a>'\n",
              "          + ' to learn more about interactive tables.';\n",
              "        element.innerHTML = '';\n",
              "        dataTable['output_type'] = 'display_data';\n",
              "        await google.colab.output.renderOutput(dataTable, element);\n",
              "        const docLink = document.createElement('div');\n",
              "        docLink.innerHTML = docLinkHtml;\n",
              "        element.appendChild(docLink);\n",
              "      }\n",
              "    </script>\n",
              "  </div>\n",
              "\n",
              "\n",
              "<div id=\"df-f3a0b25c-88ff-4551-a49a-e53d62167556\">\n",
              "  <button class=\"colab-df-quickchart\" onclick=\"quickchart('df-f3a0b25c-88ff-4551-a49a-e53d62167556')\"\n",
              "            title=\"Suggest charts\"\n",
              "            style=\"display:none;\">\n",
              "\n",
              "<svg xmlns=\"http://www.w3.org/2000/svg\" height=\"24px\"viewBox=\"0 0 24 24\"\n",
              "     width=\"24px\">\n",
              "    <g>\n",
              "        <path d=\"M19 3H5c-1.1 0-2 .9-2 2v14c0 1.1.9 2 2 2h14c1.1 0 2-.9 2-2V5c0-1.1-.9-2-2-2zM9 17H7v-7h2v7zm4 0h-2V7h2v10zm4 0h-2v-4h2v4z\"/>\n",
              "    </g>\n",
              "</svg>\n",
              "  </button>\n",
              "\n",
              "<style>\n",
              "  .colab-df-quickchart {\n",
              "      --bg-color: #E8F0FE;\n",
              "      --fill-color: #1967D2;\n",
              "      --hover-bg-color: #E2EBFA;\n",
              "      --hover-fill-color: #174EA6;\n",
              "      --disabled-fill-color: #AAA;\n",
              "      --disabled-bg-color: #DDD;\n",
              "  }\n",
              "\n",
              "  [theme=dark] .colab-df-quickchart {\n",
              "      --bg-color: #3B4455;\n",
              "      --fill-color: #D2E3FC;\n",
              "      --hover-bg-color: #434B5C;\n",
              "      --hover-fill-color: #FFFFFF;\n",
              "      --disabled-bg-color: #3B4455;\n",
              "      --disabled-fill-color: #666;\n",
              "  }\n",
              "\n",
              "  .colab-df-quickchart {\n",
              "    background-color: var(--bg-color);\n",
              "    border: none;\n",
              "    border-radius: 50%;\n",
              "    cursor: pointer;\n",
              "    display: none;\n",
              "    fill: var(--fill-color);\n",
              "    height: 32px;\n",
              "    padding: 0;\n",
              "    width: 32px;\n",
              "  }\n",
              "\n",
              "  .colab-df-quickchart:hover {\n",
              "    background-color: var(--hover-bg-color);\n",
              "    box-shadow: 0 1px 2px rgba(60, 64, 67, 0.3), 0 1px 3px 1px rgba(60, 64, 67, 0.15);\n",
              "    fill: var(--button-hover-fill-color);\n",
              "  }\n",
              "\n",
              "  .colab-df-quickchart-complete:disabled,\n",
              "  .colab-df-quickchart-complete:disabled:hover {\n",
              "    background-color: var(--disabled-bg-color);\n",
              "    fill: var(--disabled-fill-color);\n",
              "    box-shadow: none;\n",
              "  }\n",
              "\n",
              "  .colab-df-spinner {\n",
              "    border: 2px solid var(--fill-color);\n",
              "    border-color: transparent;\n",
              "    border-bottom-color: var(--fill-color);\n",
              "    animation:\n",
              "      spin 1s steps(1) infinite;\n",
              "  }\n",
              "\n",
              "  @keyframes spin {\n",
              "    0% {\n",
              "      border-color: transparent;\n",
              "      border-bottom-color: var(--fill-color);\n",
              "      border-left-color: var(--fill-color);\n",
              "    }\n",
              "    20% {\n",
              "      border-color: transparent;\n",
              "      border-left-color: var(--fill-color);\n",
              "      border-top-color: var(--fill-color);\n",
              "    }\n",
              "    30% {\n",
              "      border-color: transparent;\n",
              "      border-left-color: var(--fill-color);\n",
              "      border-top-color: var(--fill-color);\n",
              "      border-right-color: var(--fill-color);\n",
              "    }\n",
              "    40% {\n",
              "      border-color: transparent;\n",
              "      border-right-color: var(--fill-color);\n",
              "      border-top-color: var(--fill-color);\n",
              "    }\n",
              "    60% {\n",
              "      border-color: transparent;\n",
              "      border-right-color: var(--fill-color);\n",
              "    }\n",
              "    80% {\n",
              "      border-color: transparent;\n",
              "      border-right-color: var(--fill-color);\n",
              "      border-bottom-color: var(--fill-color);\n",
              "    }\n",
              "    90% {\n",
              "      border-color: transparent;\n",
              "      border-bottom-color: var(--fill-color);\n",
              "    }\n",
              "  }\n",
              "</style>\n",
              "\n",
              "  <script>\n",
              "    async function quickchart(key) {\n",
              "      const quickchartButtonEl =\n",
              "        document.querySelector('#' + key + ' button');\n",
              "      quickchartButtonEl.disabled = true;  // To prevent multiple clicks.\n",
              "      quickchartButtonEl.classList.add('colab-df-spinner');\n",
              "      try {\n",
              "        const charts = await google.colab.kernel.invokeFunction(\n",
              "            'suggestCharts', [key], {});\n",
              "      } catch (error) {\n",
              "        console.error('Error during call to suggestCharts:', error);\n",
              "      }\n",
              "      quickchartButtonEl.classList.remove('colab-df-spinner');\n",
              "      quickchartButtonEl.classList.add('colab-df-quickchart-complete');\n",
              "    }\n",
              "    (() => {\n",
              "      let quickchartButtonEl =\n",
              "        document.querySelector('#df-f3a0b25c-88ff-4551-a49a-e53d62167556 button');\n",
              "      quickchartButtonEl.style.display =\n",
              "        google.colab.kernel.accessAllowed ? 'block' : 'none';\n",
              "    })();\n",
              "  </script>\n",
              "</div>\n",
              "\n",
              "    </div>\n",
              "  </div>\n"
            ],
            "text/plain": [
              "   ID Company Quarter  QuickRatio  InventoryRatio  RevenueGrowth  \\\n",
              "0   0   CMP01      Q1        2.02            7.71           0.05   \n",
              "1   1   CMP01      Q2        2.01            4.10           0.03   \n",
              "2   2   CMP01      Q3        2.02            6.79           0.06   \n",
              "3   3   CMP01      Q4        1.98            3.97           0.01   \n",
              "4   4   CMP01      Q5        1.96            7.41          -0.07   \n",
              "\n",
              "   MarketshareChange Bond rating Stock rating Region           Industry  \\\n",
              "0              -0.04         CCC          Buy  South  Metal Fabrication   \n",
              "1               0.00         CCC         Hold  South  Metal Fabrication   \n",
              "2              -0.02         CCC          Buy  South  Metal Fabrication   \n",
              "3               0.02         CCC          Buy  South  Metal Fabrication   \n",
              "4               0.02         CCC          Buy  South  Metal Fabrication   \n",
              "\n",
              "    Sales  \n",
              "0  1517.0  \n",
              "1  2968.0  \n",
              "2  1497.0  \n",
              "3  2929.0  \n",
              "4  1452.0  "
            ]
          },
          "execution_count": 3,
          "metadata": {},
          "output_type": "execute_result"
        }
      ],
      "source": [
        "train.head()"
      ]
    },
    {
      "cell_type": "code",
      "execution_count": null,
      "metadata": {
        "colab": {
          "base_uri": "https://localhost:8080/",
          "height": 206
        },
        "id": "Z_nS9azUgjdm",
        "outputId": "ebd02f18-9b1b-49b6-9394-4577d164b44a"
      },
      "outputs": [
        {
          "data": {
            "application/vnd.google.colaboratory.intrinsic+json": {
              "summary": "{\n  \"name\": \"test\",\n  \"rows\": 150,\n  \"fields\": [\n    {\n      \"column\": \"ID\",\n      \"properties\": {\n        \"dtype\": \"number\",\n        \"std\": 195,\n        \"min\": 7,\n        \"max\": 674,\n        \"num_unique_values\": 150,\n        \"samples\": [\n          332,\n          88,\n          538\n        ],\n        \"semantic_type\": \"\",\n        \"description\": \"\"\n      }\n    },\n    {\n      \"column\": \"Company\",\n      \"properties\": {\n        \"dtype\": \"string\",\n        \"num_unique_values\": 75,\n        \"samples\": [\n          \"CMP05\",\n          \"CMP64\",\n          \"CMP11\"\n        ],\n        \"semantic_type\": \"\",\n        \"description\": \"\"\n      }\n    },\n    {\n      \"column\": \"Quarter\",\n      \"properties\": {\n        \"dtype\": \"category\",\n        \"num_unique_values\": 2,\n        \"samples\": [\n          \"Q9\",\n          \"Q8\"\n        ],\n        \"semantic_type\": \"\",\n        \"description\": \"\"\n      }\n    },\n    {\n      \"column\": \"QuickRatio\",\n      \"properties\": {\n        \"dtype\": \"number\",\n        \"std\": 0.58540909422921,\n        \"min\": 0.52,\n        \"max\": 2.48,\n        \"num_unique_values\": 100,\n        \"samples\": [\n          2.43,\n          1.89\n        ],\n        \"semantic_type\": \"\",\n        \"description\": \"\"\n      }\n    },\n    {\n      \"column\": \"InventoryRatio\",\n      \"properties\": {\n        \"dtype\": \"number\",\n        \"std\": 2.1475860267823563,\n        \"min\": 1.39,\n        \"max\": 17.11,\n        \"num_unique_values\": 105,\n        \"samples\": [\n          2.41,\n          1.84\n        ],\n        \"semantic_type\": \"\",\n        \"description\": \"\"\n      }\n    },\n    {\n      \"column\": \"RevenueGrowth\",\n      \"properties\": {\n        \"dtype\": \"number\",\n        \"std\": 0.0597117985111131,\n        \"min\": -0.18,\n        \"max\": 0.08,\n        \"num_unique_values\": 24,\n        \"samples\": [\n          0.01,\n          -0.09\n        ],\n        \"semantic_type\": \"\",\n        \"description\": \"\"\n      }\n    },\n    {\n      \"column\": \"MarketshareChange\",\n      \"properties\": {\n        \"dtype\": \"number\",\n        \"std\": 0.016329931618554522,\n        \"min\": -0.05,\n        \"max\": 0.02,\n        \"num_unique_values\": 8,\n        \"samples\": [\n          0.0,\n          -0.02\n        ],\n        \"semantic_type\": \"\",\n        \"description\": \"\"\n      }\n    },\n    {\n      \"column\": \"Bond rating\",\n      \"properties\": {\n        \"dtype\": \"category\",\n        \"num_unique_values\": 6,\n        \"samples\": [\n          \"CCC\",\n          \"A\"\n        ],\n        \"semantic_type\": \"\",\n        \"description\": \"\"\n      }\n    },\n    {\n      \"column\": \"Stock rating\",\n      \"properties\": {\n        \"dtype\": \"category\",\n        \"num_unique_values\": 3,\n        \"samples\": [\n          \"Buy\",\n          \"Sell\"\n        ],\n        \"semantic_type\": \"\",\n        \"description\": \"\"\n      }\n    },\n    {\n      \"column\": \"Region\",\n      \"properties\": {\n        \"dtype\": \"category\",\n        \"num_unique_values\": 4,\n        \"samples\": [\n          \"West\",\n          \"North\"\n        ],\n        \"semantic_type\": \"\",\n        \"description\": \"\"\n      }\n    },\n    {\n      \"column\": \"Industry\",\n      \"properties\": {\n        \"dtype\": \"category\",\n        \"num_unique_values\": 3,\n        \"samples\": [\n          \"Metal Fabrication\",\n          \"Infrastructure\"\n        ],\n        \"semantic_type\": \"\",\n        \"description\": \"\"\n      }\n    }\n  ]\n}",
              "type": "dataframe",
              "variable_name": "test"
            },
            "text/html": [
              "\n",
              "  <div id=\"df-90e6567a-6efa-43d7-b0a1-1f639813669b\" class=\"colab-df-container\">\n",
              "    <div>\n",
              "<style scoped>\n",
              "    .dataframe tbody tr th:only-of-type {\n",
              "        vertical-align: middle;\n",
              "    }\n",
              "\n",
              "    .dataframe tbody tr th {\n",
              "        vertical-align: top;\n",
              "    }\n",
              "\n",
              "    .dataframe thead th {\n",
              "        text-align: right;\n",
              "    }\n",
              "</style>\n",
              "<table border=\"1\" class=\"dataframe\">\n",
              "  <thead>\n",
              "    <tr style=\"text-align: right;\">\n",
              "      <th></th>\n",
              "      <th>ID</th>\n",
              "      <th>Company</th>\n",
              "      <th>Quarter</th>\n",
              "      <th>QuickRatio</th>\n",
              "      <th>InventoryRatio</th>\n",
              "      <th>RevenueGrowth</th>\n",
              "      <th>MarketshareChange</th>\n",
              "      <th>Bond rating</th>\n",
              "      <th>Stock rating</th>\n",
              "      <th>Region</th>\n",
              "      <th>Industry</th>\n",
              "    </tr>\n",
              "  </thead>\n",
              "  <tbody>\n",
              "    <tr>\n",
              "      <th>0</th>\n",
              "      <td>7</td>\n",
              "      <td>CMP01</td>\n",
              "      <td>Q8</td>\n",
              "      <td>1.93</td>\n",
              "      <td>2.79</td>\n",
              "      <td>-0.03</td>\n",
              "      <td>-0.01</td>\n",
              "      <td>CCC</td>\n",
              "      <td>Buy</td>\n",
              "      <td>South</td>\n",
              "      <td>Metal Fabrication</td>\n",
              "    </tr>\n",
              "    <tr>\n",
              "      <th>1</th>\n",
              "      <td>8</td>\n",
              "      <td>CMP01</td>\n",
              "      <td>Q9</td>\n",
              "      <td>1.93</td>\n",
              "      <td>4.77</td>\n",
              "      <td>0.00</td>\n",
              "      <td>0.00</td>\n",
              "      <td>CCC</td>\n",
              "      <td>Buy</td>\n",
              "      <td>South</td>\n",
              "      <td>Metal Fabrication</td>\n",
              "    </tr>\n",
              "    <tr>\n",
              "      <th>2</th>\n",
              "      <td>16</td>\n",
              "      <td>CMP02</td>\n",
              "      <td>Q8</td>\n",
              "      <td>1.97</td>\n",
              "      <td>2.34</td>\n",
              "      <td>0.04</td>\n",
              "      <td>-0.03</td>\n",
              "      <td>A</td>\n",
              "      <td>Sell</td>\n",
              "      <td>West</td>\n",
              "      <td>Infrastructure</td>\n",
              "    </tr>\n",
              "    <tr>\n",
              "      <th>3</th>\n",
              "      <td>17</td>\n",
              "      <td>CMP02</td>\n",
              "      <td>Q9</td>\n",
              "      <td>1.93</td>\n",
              "      <td>4.14</td>\n",
              "      <td>0.04</td>\n",
              "      <td>0.01</td>\n",
              "      <td>BBB</td>\n",
              "      <td>Hold</td>\n",
              "      <td>West</td>\n",
              "      <td>Infrastructure</td>\n",
              "    </tr>\n",
              "    <tr>\n",
              "      <th>4</th>\n",
              "      <td>25</td>\n",
              "      <td>CMP03</td>\n",
              "      <td>Q8</td>\n",
              "      <td>0.67</td>\n",
              "      <td>NaN</td>\n",
              "      <td>-0.05</td>\n",
              "      <td>-0.01</td>\n",
              "      <td>BB</td>\n",
              "      <td>Buy</td>\n",
              "      <td>East</td>\n",
              "      <td>Infrastructure</td>\n",
              "    </tr>\n",
              "  </tbody>\n",
              "</table>\n",
              "</div>\n",
              "    <div class=\"colab-df-buttons\">\n",
              "\n",
              "  <div class=\"colab-df-container\">\n",
              "    <button class=\"colab-df-convert\" onclick=\"convertToInteractive('df-90e6567a-6efa-43d7-b0a1-1f639813669b')\"\n",
              "            title=\"Convert this dataframe to an interactive table.\"\n",
              "            style=\"display:none;\">\n",
              "\n",
              "  <svg xmlns=\"http://www.w3.org/2000/svg\" height=\"24px\" viewBox=\"0 -960 960 960\">\n",
              "    <path d=\"M120-120v-720h720v720H120Zm60-500h600v-160H180v160Zm220 220h160v-160H400v160Zm0 220h160v-160H400v160ZM180-400h160v-160H180v160Zm440 0h160v-160H620v160ZM180-180h160v-160H180v160Zm440 0h160v-160H620v160Z\"/>\n",
              "  </svg>\n",
              "    </button>\n",
              "\n",
              "  <style>\n",
              "    .colab-df-container {\n",
              "      display:flex;\n",
              "      gap: 12px;\n",
              "    }\n",
              "\n",
              "    .colab-df-convert {\n",
              "      background-color: #E8F0FE;\n",
              "      border: none;\n",
              "      border-radius: 50%;\n",
              "      cursor: pointer;\n",
              "      display: none;\n",
              "      fill: #1967D2;\n",
              "      height: 32px;\n",
              "      padding: 0 0 0 0;\n",
              "      width: 32px;\n",
              "    }\n",
              "\n",
              "    .colab-df-convert:hover {\n",
              "      background-color: #E2EBFA;\n",
              "      box-shadow: 0px 1px 2px rgba(60, 64, 67, 0.3), 0px 1px 3px 1px rgba(60, 64, 67, 0.15);\n",
              "      fill: #174EA6;\n",
              "    }\n",
              "\n",
              "    .colab-df-buttons div {\n",
              "      margin-bottom: 4px;\n",
              "    }\n",
              "\n",
              "    [theme=dark] .colab-df-convert {\n",
              "      background-color: #3B4455;\n",
              "      fill: #D2E3FC;\n",
              "    }\n",
              "\n",
              "    [theme=dark] .colab-df-convert:hover {\n",
              "      background-color: #434B5C;\n",
              "      box-shadow: 0px 1px 3px 1px rgba(0, 0, 0, 0.15);\n",
              "      filter: drop-shadow(0px 1px 2px rgba(0, 0, 0, 0.3));\n",
              "      fill: #FFFFFF;\n",
              "    }\n",
              "  </style>\n",
              "\n",
              "    <script>\n",
              "      const buttonEl =\n",
              "        document.querySelector('#df-90e6567a-6efa-43d7-b0a1-1f639813669b button.colab-df-convert');\n",
              "      buttonEl.style.display =\n",
              "        google.colab.kernel.accessAllowed ? 'block' : 'none';\n",
              "\n",
              "      async function convertToInteractive(key) {\n",
              "        const element = document.querySelector('#df-90e6567a-6efa-43d7-b0a1-1f639813669b');\n",
              "        const dataTable =\n",
              "          await google.colab.kernel.invokeFunction('convertToInteractive',\n",
              "                                                    [key], {});\n",
              "        if (!dataTable) return;\n",
              "\n",
              "        const docLinkHtml = 'Like what you see? Visit the ' +\n",
              "          '<a target=\"_blank\" href=https://colab.research.google.com/notebooks/data_table.ipynb>data table notebook</a>'\n",
              "          + ' to learn more about interactive tables.';\n",
              "        element.innerHTML = '';\n",
              "        dataTable['output_type'] = 'display_data';\n",
              "        await google.colab.output.renderOutput(dataTable, element);\n",
              "        const docLink = document.createElement('div');\n",
              "        docLink.innerHTML = docLinkHtml;\n",
              "        element.appendChild(docLink);\n",
              "      }\n",
              "    </script>\n",
              "  </div>\n",
              "\n",
              "\n",
              "<div id=\"df-9bc05625-831f-4d4c-b200-d32c454a2a7c\">\n",
              "  <button class=\"colab-df-quickchart\" onclick=\"quickchart('df-9bc05625-831f-4d4c-b200-d32c454a2a7c')\"\n",
              "            title=\"Suggest charts\"\n",
              "            style=\"display:none;\">\n",
              "\n",
              "<svg xmlns=\"http://www.w3.org/2000/svg\" height=\"24px\"viewBox=\"0 0 24 24\"\n",
              "     width=\"24px\">\n",
              "    <g>\n",
              "        <path d=\"M19 3H5c-1.1 0-2 .9-2 2v14c0 1.1.9 2 2 2h14c1.1 0 2-.9 2-2V5c0-1.1-.9-2-2-2zM9 17H7v-7h2v7zm4 0h-2V7h2v10zm4 0h-2v-4h2v4z\"/>\n",
              "    </g>\n",
              "</svg>\n",
              "  </button>\n",
              "\n",
              "<style>\n",
              "  .colab-df-quickchart {\n",
              "      --bg-color: #E8F0FE;\n",
              "      --fill-color: #1967D2;\n",
              "      --hover-bg-color: #E2EBFA;\n",
              "      --hover-fill-color: #174EA6;\n",
              "      --disabled-fill-color: #AAA;\n",
              "      --disabled-bg-color: #DDD;\n",
              "  }\n",
              "\n",
              "  [theme=dark] .colab-df-quickchart {\n",
              "      --bg-color: #3B4455;\n",
              "      --fill-color: #D2E3FC;\n",
              "      --hover-bg-color: #434B5C;\n",
              "      --hover-fill-color: #FFFFFF;\n",
              "      --disabled-bg-color: #3B4455;\n",
              "      --disabled-fill-color: #666;\n",
              "  }\n",
              "\n",
              "  .colab-df-quickchart {\n",
              "    background-color: var(--bg-color);\n",
              "    border: none;\n",
              "    border-radius: 50%;\n",
              "    cursor: pointer;\n",
              "    display: none;\n",
              "    fill: var(--fill-color);\n",
              "    height: 32px;\n",
              "    padding: 0;\n",
              "    width: 32px;\n",
              "  }\n",
              "\n",
              "  .colab-df-quickchart:hover {\n",
              "    background-color: var(--hover-bg-color);\n",
              "    box-shadow: 0 1px 2px rgba(60, 64, 67, 0.3), 0 1px 3px 1px rgba(60, 64, 67, 0.15);\n",
              "    fill: var(--button-hover-fill-color);\n",
              "  }\n",
              "\n",
              "  .colab-df-quickchart-complete:disabled,\n",
              "  .colab-df-quickchart-complete:disabled:hover {\n",
              "    background-color: var(--disabled-bg-color);\n",
              "    fill: var(--disabled-fill-color);\n",
              "    box-shadow: none;\n",
              "  }\n",
              "\n",
              "  .colab-df-spinner {\n",
              "    border: 2px solid var(--fill-color);\n",
              "    border-color: transparent;\n",
              "    border-bottom-color: var(--fill-color);\n",
              "    animation:\n",
              "      spin 1s steps(1) infinite;\n",
              "  }\n",
              "\n",
              "  @keyframes spin {\n",
              "    0% {\n",
              "      border-color: transparent;\n",
              "      border-bottom-color: var(--fill-color);\n",
              "      border-left-color: var(--fill-color);\n",
              "    }\n",
              "    20% {\n",
              "      border-color: transparent;\n",
              "      border-left-color: var(--fill-color);\n",
              "      border-top-color: var(--fill-color);\n",
              "    }\n",
              "    30% {\n",
              "      border-color: transparent;\n",
              "      border-left-color: var(--fill-color);\n",
              "      border-top-color: var(--fill-color);\n",
              "      border-right-color: var(--fill-color);\n",
              "    }\n",
              "    40% {\n",
              "      border-color: transparent;\n",
              "      border-right-color: var(--fill-color);\n",
              "      border-top-color: var(--fill-color);\n",
              "    }\n",
              "    60% {\n",
              "      border-color: transparent;\n",
              "      border-right-color: var(--fill-color);\n",
              "    }\n",
              "    80% {\n",
              "      border-color: transparent;\n",
              "      border-right-color: var(--fill-color);\n",
              "      border-bottom-color: var(--fill-color);\n",
              "    }\n",
              "    90% {\n",
              "      border-color: transparent;\n",
              "      border-bottom-color: var(--fill-color);\n",
              "    }\n",
              "  }\n",
              "</style>\n",
              "\n",
              "  <script>\n",
              "    async function quickchart(key) {\n",
              "      const quickchartButtonEl =\n",
              "        document.querySelector('#' + key + ' button');\n",
              "      quickchartButtonEl.disabled = true;  // To prevent multiple clicks.\n",
              "      quickchartButtonEl.classList.add('colab-df-spinner');\n",
              "      try {\n",
              "        const charts = await google.colab.kernel.invokeFunction(\n",
              "            'suggestCharts', [key], {});\n",
              "      } catch (error) {\n",
              "        console.error('Error during call to suggestCharts:', error);\n",
              "      }\n",
              "      quickchartButtonEl.classList.remove('colab-df-spinner');\n",
              "      quickchartButtonEl.classList.add('colab-df-quickchart-complete');\n",
              "    }\n",
              "    (() => {\n",
              "      let quickchartButtonEl =\n",
              "        document.querySelector('#df-9bc05625-831f-4d4c-b200-d32c454a2a7c button');\n",
              "      quickchartButtonEl.style.display =\n",
              "        google.colab.kernel.accessAllowed ? 'block' : 'none';\n",
              "    })();\n",
              "  </script>\n",
              "</div>\n",
              "\n",
              "    </div>\n",
              "  </div>\n"
            ],
            "text/plain": [
              "   ID Company Quarter  QuickRatio  InventoryRatio  RevenueGrowth  \\\n",
              "0   7   CMP01      Q8        1.93            2.79          -0.03   \n",
              "1   8   CMP01      Q9        1.93            4.77           0.00   \n",
              "2  16   CMP02      Q8        1.97            2.34           0.04   \n",
              "3  17   CMP02      Q9        1.93            4.14           0.04   \n",
              "4  25   CMP03      Q8        0.67             NaN          -0.05   \n",
              "\n",
              "   MarketshareChange Bond rating Stock rating Region           Industry  \n",
              "0              -0.01         CCC          Buy  South  Metal Fabrication  \n",
              "1               0.00         CCC          Buy  South  Metal Fabrication  \n",
              "2              -0.03           A         Sell   West     Infrastructure  \n",
              "3               0.01         BBB         Hold   West     Infrastructure  \n",
              "4              -0.01          BB          Buy   East     Infrastructure  "
            ]
          },
          "execution_count": 4,
          "metadata": {},
          "output_type": "execute_result"
        }
      ],
      "source": [
        "test.head()"
      ]
    },
    {
      "cell_type": "code",
      "execution_count": null,
      "metadata": {
        "colab": {
          "base_uri": "https://localhost:8080/"
        },
        "id": "ss1cuZdvgltK",
        "outputId": "85e223fc-f322-4019-d4d4-8fc61dd6fd48"
      },
      "outputs": [
        {
          "name": "stdout",
          "output_type": "stream",
          "text": [
            "<class 'pandas.core.frame.DataFrame'>\n",
            "RangeIndex: 675 entries, 0 to 674\n",
            "Data columns (total 12 columns):\n",
            " #   Column             Non-Null Count  Dtype  \n",
            "---  ------             --------------  -----  \n",
            " 0   ID                 675 non-null    int64  \n",
            " 1   Company            675 non-null    object \n",
            " 2   Quarter            675 non-null    object \n",
            " 3   QuickRatio         675 non-null    float64\n",
            " 4   InventoryRatio     523 non-null    float64\n",
            " 5   RevenueGrowth      675 non-null    float64\n",
            " 6   MarketshareChange  675 non-null    float64\n",
            " 7   Bond rating        675 non-null    object \n",
            " 8   Stock rating       675 non-null    object \n",
            " 9   Region             675 non-null    object \n",
            " 10  Industry           675 non-null    object \n",
            " 11  Sales              525 non-null    float64\n",
            "dtypes: float64(5), int64(1), object(6)\n",
            "memory usage: 63.4+ KB\n"
          ]
        }
      ],
      "source": [
        "train.info()"
      ]
    },
    {
      "cell_type": "code",
      "execution_count": null,
      "metadata": {
        "colab": {
          "base_uri": "https://localhost:8080/",
          "height": 300
        },
        "id": "7qAVXojhg14N",
        "outputId": "8cec3c12-d974-421a-d939-afde10dc9717"
      },
      "outputs": [
        {
          "data": {
            "application/vnd.google.colaboratory.intrinsic+json": {
              "summary": "{\n  \"name\": \"train\",\n  \"rows\": 8,\n  \"fields\": [\n    {\n      \"column\": \"ID\",\n      \"properties\": {\n        \"dtype\": \"number\",\n        \"std\": 243.63539248441668,\n        \"min\": 0.0,\n        \"max\": 675.0,\n        \"num_unique_values\": 8,\n        \"samples\": [\n          394.55555555555554,\n          433.0,\n          675.0\n        ],\n        \"semantic_type\": \"\",\n        \"description\": \"\"\n      }\n    },\n    {\n      \"column\": \"QuickRatio\",\n      \"properties\": {\n        \"dtype\": \"number\",\n        \"std\": 238.1412624639092,\n        \"min\": 0.5,\n        \"max\": 675.0,\n        \"num_unique_values\": 8,\n        \"samples\": [\n          1.6038666666666668,\n          1.73,\n          675.0\n        ],\n        \"semantic_type\": \"\",\n        \"description\": \"\"\n      }\n    },\n    {\n      \"column\": \"InventoryRatio\",\n      \"properties\": {\n        \"dtype\": \"number\",\n        \"std\": 182.83287117005088,\n        \"min\": 1.26,\n        \"max\": 523.0,\n        \"num_unique_values\": 8,\n        \"samples\": [\n          4.265124282982791,\n          3.42,\n          523.0\n        ],\n        \"semantic_type\": \"\",\n        \"description\": \"\"\n      }\n    },\n    {\n      \"column\": \"RevenueGrowth\",\n      \"properties\": {\n        \"dtype\": \"number\",\n        \"std\": 238.65271479447358,\n        \"min\": -0.2,\n        \"max\": 675.0,\n        \"num_unique_values\": 8,\n        \"samples\": [\n          -0.009733333333333332,\n          0.0,\n          675.0\n        ],\n        \"semantic_type\": \"\",\n        \"description\": \"\"\n      }\n    },\n    {\n      \"column\": \"MarketshareChange\",\n      \"properties\": {\n        \"dtype\": \"number\",\n        \"std\": 238.64956405682995,\n        \"min\": -0.05,\n        \"max\": 675.0,\n        \"num_unique_values\": 8,\n        \"samples\": [\n          -0.0029037037037037035,\n          0.0,\n          675.0\n        ],\n        \"semantic_type\": \"\",\n        \"description\": \"\"\n      }\n    },\n    {\n      \"column\": \"Sales\",\n      \"properties\": {\n        \"dtype\": \"number\",\n        \"std\": 3556.464017199373,\n        \"min\": 525.0,\n        \"max\": 11686.0,\n        \"num_unique_values\": 8,\n        \"samples\": [\n          3556.7085714285713,\n          3007.0,\n          525.0\n        ],\n        \"semantic_type\": \"\",\n        \"description\": \"\"\n      }\n    }\n  ]\n}",
              "type": "dataframe"
            },
            "text/html": [
              "\n",
              "  <div id=\"df-070d253a-196f-450b-802f-477dc1865968\" class=\"colab-df-container\">\n",
              "    <div>\n",
              "<style scoped>\n",
              "    .dataframe tbody tr th:only-of-type {\n",
              "        vertical-align: middle;\n",
              "    }\n",
              "\n",
              "    .dataframe tbody tr th {\n",
              "        vertical-align: top;\n",
              "    }\n",
              "\n",
              "    .dataframe thead th {\n",
              "        text-align: right;\n",
              "    }\n",
              "</style>\n",
              "<table border=\"1\" class=\"dataframe\">\n",
              "  <thead>\n",
              "    <tr style=\"text-align: right;\">\n",
              "      <th></th>\n",
              "      <th>ID</th>\n",
              "      <th>QuickRatio</th>\n",
              "      <th>InventoryRatio</th>\n",
              "      <th>RevenueGrowth</th>\n",
              "      <th>MarketshareChange</th>\n",
              "      <th>Sales</th>\n",
              "    </tr>\n",
              "  </thead>\n",
              "  <tbody>\n",
              "    <tr>\n",
              "      <th>count</th>\n",
              "      <td>675.000000</td>\n",
              "      <td>675.000000</td>\n",
              "      <td>523.000000</td>\n",
              "      <td>675.000000</td>\n",
              "      <td>675.000000</td>\n",
              "      <td>525.000000</td>\n",
              "    </tr>\n",
              "    <tr>\n",
              "      <th>mean</th>\n",
              "      <td>394.555556</td>\n",
              "      <td>1.603867</td>\n",
              "      <td>4.265124</td>\n",
              "      <td>-0.009733</td>\n",
              "      <td>-0.002904</td>\n",
              "      <td>3556.708571</td>\n",
              "    </tr>\n",
              "    <tr>\n",
              "      <th>std</th>\n",
              "      <td>204.960069</td>\n",
              "      <td>0.595615</td>\n",
              "      <td>3.108644</td>\n",
              "      <td>0.067390</td>\n",
              "      <td>0.017622</td>\n",
              "      <td>2028.059368</td>\n",
              "    </tr>\n",
              "    <tr>\n",
              "      <th>min</th>\n",
              "      <td>0.000000</td>\n",
              "      <td>0.500000</td>\n",
              "      <td>1.260000</td>\n",
              "      <td>-0.200000</td>\n",
              "      <td>-0.050000</td>\n",
              "      <td>864.000000</td>\n",
              "    </tr>\n",
              "    <tr>\n",
              "      <th>25%</th>\n",
              "      <td>216.500000</td>\n",
              "      <td>0.990000</td>\n",
              "      <td>2.630000</td>\n",
              "      <td>-0.070000</td>\n",
              "      <td>-0.015000</td>\n",
              "      <td>1992.000000</td>\n",
              "    </tr>\n",
              "    <tr>\n",
              "      <th>50%</th>\n",
              "      <td>433.000000</td>\n",
              "      <td>1.730000</td>\n",
              "      <td>3.420000</td>\n",
              "      <td>0.000000</td>\n",
              "      <td>0.000000</td>\n",
              "      <td>3007.000000</td>\n",
              "    </tr>\n",
              "    <tr>\n",
              "      <th>75%</th>\n",
              "      <td>579.000000</td>\n",
              "      <td>2.155000</td>\n",
              "      <td>4.725000</td>\n",
              "      <td>0.050000</td>\n",
              "      <td>0.010000</td>\n",
              "      <td>4523.000000</td>\n",
              "    </tr>\n",
              "    <tr>\n",
              "      <th>max</th>\n",
              "      <td>674.000000</td>\n",
              "      <td>2.490000</td>\n",
              "      <td>24.840000</td>\n",
              "      <td>0.080000</td>\n",
              "      <td>0.020000</td>\n",
              "      <td>11686.000000</td>\n",
              "    </tr>\n",
              "  </tbody>\n",
              "</table>\n",
              "</div>\n",
              "    <div class=\"colab-df-buttons\">\n",
              "\n",
              "  <div class=\"colab-df-container\">\n",
              "    <button class=\"colab-df-convert\" onclick=\"convertToInteractive('df-070d253a-196f-450b-802f-477dc1865968')\"\n",
              "            title=\"Convert this dataframe to an interactive table.\"\n",
              "            style=\"display:none;\">\n",
              "\n",
              "  <svg xmlns=\"http://www.w3.org/2000/svg\" height=\"24px\" viewBox=\"0 -960 960 960\">\n",
              "    <path d=\"M120-120v-720h720v720H120Zm60-500h600v-160H180v160Zm220 220h160v-160H400v160Zm0 220h160v-160H400v160ZM180-400h160v-160H180v160Zm440 0h160v-160H620v160ZM180-180h160v-160H180v160Zm440 0h160v-160H620v160Z\"/>\n",
              "  </svg>\n",
              "    </button>\n",
              "\n",
              "  <style>\n",
              "    .colab-df-container {\n",
              "      display:flex;\n",
              "      gap: 12px;\n",
              "    }\n",
              "\n",
              "    .colab-df-convert {\n",
              "      background-color: #E8F0FE;\n",
              "      border: none;\n",
              "      border-radius: 50%;\n",
              "      cursor: pointer;\n",
              "      display: none;\n",
              "      fill: #1967D2;\n",
              "      height: 32px;\n",
              "      padding: 0 0 0 0;\n",
              "      width: 32px;\n",
              "    }\n",
              "\n",
              "    .colab-df-convert:hover {\n",
              "      background-color: #E2EBFA;\n",
              "      box-shadow: 0px 1px 2px rgba(60, 64, 67, 0.3), 0px 1px 3px 1px rgba(60, 64, 67, 0.15);\n",
              "      fill: #174EA6;\n",
              "    }\n",
              "\n",
              "    .colab-df-buttons div {\n",
              "      margin-bottom: 4px;\n",
              "    }\n",
              "\n",
              "    [theme=dark] .colab-df-convert {\n",
              "      background-color: #3B4455;\n",
              "      fill: #D2E3FC;\n",
              "    }\n",
              "\n",
              "    [theme=dark] .colab-df-convert:hover {\n",
              "      background-color: #434B5C;\n",
              "      box-shadow: 0px 1px 3px 1px rgba(0, 0, 0, 0.15);\n",
              "      filter: drop-shadow(0px 1px 2px rgba(0, 0, 0, 0.3));\n",
              "      fill: #FFFFFF;\n",
              "    }\n",
              "  </style>\n",
              "\n",
              "    <script>\n",
              "      const buttonEl =\n",
              "        document.querySelector('#df-070d253a-196f-450b-802f-477dc1865968 button.colab-df-convert');\n",
              "      buttonEl.style.display =\n",
              "        google.colab.kernel.accessAllowed ? 'block' : 'none';\n",
              "\n",
              "      async function convertToInteractive(key) {\n",
              "        const element = document.querySelector('#df-070d253a-196f-450b-802f-477dc1865968');\n",
              "        const dataTable =\n",
              "          await google.colab.kernel.invokeFunction('convertToInteractive',\n",
              "                                                    [key], {});\n",
              "        if (!dataTable) return;\n",
              "\n",
              "        const docLinkHtml = 'Like what you see? Visit the ' +\n",
              "          '<a target=\"_blank\" href=https://colab.research.google.com/notebooks/data_table.ipynb>data table notebook</a>'\n",
              "          + ' to learn more about interactive tables.';\n",
              "        element.innerHTML = '';\n",
              "        dataTable['output_type'] = 'display_data';\n",
              "        await google.colab.output.renderOutput(dataTable, element);\n",
              "        const docLink = document.createElement('div');\n",
              "        docLink.innerHTML = docLinkHtml;\n",
              "        element.appendChild(docLink);\n",
              "      }\n",
              "    </script>\n",
              "  </div>\n",
              "\n",
              "\n",
              "<div id=\"df-1665f824-82b8-41ae-8252-3b1987a48386\">\n",
              "  <button class=\"colab-df-quickchart\" onclick=\"quickchart('df-1665f824-82b8-41ae-8252-3b1987a48386')\"\n",
              "            title=\"Suggest charts\"\n",
              "            style=\"display:none;\">\n",
              "\n",
              "<svg xmlns=\"http://www.w3.org/2000/svg\" height=\"24px\"viewBox=\"0 0 24 24\"\n",
              "     width=\"24px\">\n",
              "    <g>\n",
              "        <path d=\"M19 3H5c-1.1 0-2 .9-2 2v14c0 1.1.9 2 2 2h14c1.1 0 2-.9 2-2V5c0-1.1-.9-2-2-2zM9 17H7v-7h2v7zm4 0h-2V7h2v10zm4 0h-2v-4h2v4z\"/>\n",
              "    </g>\n",
              "</svg>\n",
              "  </button>\n",
              "\n",
              "<style>\n",
              "  .colab-df-quickchart {\n",
              "      --bg-color: #E8F0FE;\n",
              "      --fill-color: #1967D2;\n",
              "      --hover-bg-color: #E2EBFA;\n",
              "      --hover-fill-color: #174EA6;\n",
              "      --disabled-fill-color: #AAA;\n",
              "      --disabled-bg-color: #DDD;\n",
              "  }\n",
              "\n",
              "  [theme=dark] .colab-df-quickchart {\n",
              "      --bg-color: #3B4455;\n",
              "      --fill-color: #D2E3FC;\n",
              "      --hover-bg-color: #434B5C;\n",
              "      --hover-fill-color: #FFFFFF;\n",
              "      --disabled-bg-color: #3B4455;\n",
              "      --disabled-fill-color: #666;\n",
              "  }\n",
              "\n",
              "  .colab-df-quickchart {\n",
              "    background-color: var(--bg-color);\n",
              "    border: none;\n",
              "    border-radius: 50%;\n",
              "    cursor: pointer;\n",
              "    display: none;\n",
              "    fill: var(--fill-color);\n",
              "    height: 32px;\n",
              "    padding: 0;\n",
              "    width: 32px;\n",
              "  }\n",
              "\n",
              "  .colab-df-quickchart:hover {\n",
              "    background-color: var(--hover-bg-color);\n",
              "    box-shadow: 0 1px 2px rgba(60, 64, 67, 0.3), 0 1px 3px 1px rgba(60, 64, 67, 0.15);\n",
              "    fill: var(--button-hover-fill-color);\n",
              "  }\n",
              "\n",
              "  .colab-df-quickchart-complete:disabled,\n",
              "  .colab-df-quickchart-complete:disabled:hover {\n",
              "    background-color: var(--disabled-bg-color);\n",
              "    fill: var(--disabled-fill-color);\n",
              "    box-shadow: none;\n",
              "  }\n",
              "\n",
              "  .colab-df-spinner {\n",
              "    border: 2px solid var(--fill-color);\n",
              "    border-color: transparent;\n",
              "    border-bottom-color: var(--fill-color);\n",
              "    animation:\n",
              "      spin 1s steps(1) infinite;\n",
              "  }\n",
              "\n",
              "  @keyframes spin {\n",
              "    0% {\n",
              "      border-color: transparent;\n",
              "      border-bottom-color: var(--fill-color);\n",
              "      border-left-color: var(--fill-color);\n",
              "    }\n",
              "    20% {\n",
              "      border-color: transparent;\n",
              "      border-left-color: var(--fill-color);\n",
              "      border-top-color: var(--fill-color);\n",
              "    }\n",
              "    30% {\n",
              "      border-color: transparent;\n",
              "      border-left-color: var(--fill-color);\n",
              "      border-top-color: var(--fill-color);\n",
              "      border-right-color: var(--fill-color);\n",
              "    }\n",
              "    40% {\n",
              "      border-color: transparent;\n",
              "      border-right-color: var(--fill-color);\n",
              "      border-top-color: var(--fill-color);\n",
              "    }\n",
              "    60% {\n",
              "      border-color: transparent;\n",
              "      border-right-color: var(--fill-color);\n",
              "    }\n",
              "    80% {\n",
              "      border-color: transparent;\n",
              "      border-right-color: var(--fill-color);\n",
              "      border-bottom-color: var(--fill-color);\n",
              "    }\n",
              "    90% {\n",
              "      border-color: transparent;\n",
              "      border-bottom-color: var(--fill-color);\n",
              "    }\n",
              "  }\n",
              "</style>\n",
              "\n",
              "  <script>\n",
              "    async function quickchart(key) {\n",
              "      const quickchartButtonEl =\n",
              "        document.querySelector('#' + key + ' button');\n",
              "      quickchartButtonEl.disabled = true;  // To prevent multiple clicks.\n",
              "      quickchartButtonEl.classList.add('colab-df-spinner');\n",
              "      try {\n",
              "        const charts = await google.colab.kernel.invokeFunction(\n",
              "            'suggestCharts', [key], {});\n",
              "      } catch (error) {\n",
              "        console.error('Error during call to suggestCharts:', error);\n",
              "      }\n",
              "      quickchartButtonEl.classList.remove('colab-df-spinner');\n",
              "      quickchartButtonEl.classList.add('colab-df-quickchart-complete');\n",
              "    }\n",
              "    (() => {\n",
              "      let quickchartButtonEl =\n",
              "        document.querySelector('#df-1665f824-82b8-41ae-8252-3b1987a48386 button');\n",
              "      quickchartButtonEl.style.display =\n",
              "        google.colab.kernel.accessAllowed ? 'block' : 'none';\n",
              "    })();\n",
              "  </script>\n",
              "</div>\n",
              "\n",
              "    </div>\n",
              "  </div>\n"
            ],
            "text/plain": [
              "               ID  QuickRatio  InventoryRatio  RevenueGrowth  \\\n",
              "count  675.000000  675.000000      523.000000     675.000000   \n",
              "mean   394.555556    1.603867        4.265124      -0.009733   \n",
              "std    204.960069    0.595615        3.108644       0.067390   \n",
              "min      0.000000    0.500000        1.260000      -0.200000   \n",
              "25%    216.500000    0.990000        2.630000      -0.070000   \n",
              "50%    433.000000    1.730000        3.420000       0.000000   \n",
              "75%    579.000000    2.155000        4.725000       0.050000   \n",
              "max    674.000000    2.490000       24.840000       0.080000   \n",
              "\n",
              "       MarketshareChange         Sales  \n",
              "count         675.000000    525.000000  \n",
              "mean           -0.002904   3556.708571  \n",
              "std             0.017622   2028.059368  \n",
              "min            -0.050000    864.000000  \n",
              "25%            -0.015000   1992.000000  \n",
              "50%             0.000000   3007.000000  \n",
              "75%             0.010000   4523.000000  \n",
              "max             0.020000  11686.000000  "
            ]
          },
          "execution_count": 6,
          "metadata": {},
          "output_type": "execute_result"
        }
      ],
      "source": [
        "train.describe()"
      ]
    },
    {
      "cell_type": "code",
      "execution_count": null,
      "metadata": {
        "colab": {
          "base_uri": "https://localhost:8080/",
          "height": 300
        },
        "id": "X5-b7G43g_xv",
        "outputId": "39ba87d6-5262-45c1-b590-772fcdb63c85"
      },
      "outputs": [
        {
          "data": {
            "application/vnd.google.colaboratory.intrinsic+json": {
              "summary": "{\n  \"name\": \"test\",\n  \"rows\": 8,\n  \"fields\": [\n    {\n      \"column\": \"ID\",\n      \"properties\": {\n        \"dtype\": \"number\",\n        \"std\": 214.63454529533456,\n        \"min\": 7.0,\n        \"max\": 674.0,\n        \"num_unique_values\": 7,\n        \"samples\": [\n          150.0,\n          340.5,\n          509.0\n        ],\n        \"semantic_type\": \"\",\n        \"description\": \"\"\n      }\n    },\n    {\n      \"column\": \"QuickRatio\",\n      \"properties\": {\n        \"dtype\": \"number\",\n        \"std\": 52.52750190907785,\n        \"min\": 0.52,\n        \"max\": 150.0,\n        \"num_unique_values\": 8,\n        \"samples\": [\n          1.6028666666666664,\n          1.745,\n          150.0\n        ],\n        \"semantic_type\": \"\",\n        \"description\": \"\"\n      }\n    },\n    {\n      \"column\": \"InventoryRatio\",\n      \"properties\": {\n        \"dtype\": \"number\",\n        \"std\": 40.25175258776534,\n        \"min\": 1.39,\n        \"max\": 118.0,\n        \"num_unique_values\": 8,\n        \"samples\": [\n          3.9620338983050845,\n          3.505,\n          118.0\n        ],\n        \"semantic_type\": \"\",\n        \"description\": \"\"\n      }\n    },\n    {\n      \"column\": \"RevenueGrowth\",\n      \"properties\": {\n        \"dtype\": \"number\",\n        \"std\": 53.034663664700666,\n        \"min\": -0.18,\n        \"max\": 150.0,\n        \"num_unique_values\": 8,\n        \"samples\": [\n          -0.0012666666666666664,\n          0.01,\n          150.0\n        ],\n        \"semantic_type\": \"\",\n        \"description\": \"\"\n      }\n    },\n    {\n      \"column\": \"MarketshareChange\",\n      \"properties\": {\n        \"dtype\": \"number\",\n        \"std\": 53.03383821133308,\n        \"min\": -0.05,\n        \"max\": 150.0,\n        \"num_unique_values\": 8,\n        \"samples\": [\n          -0.002666666666666666,\n          0.0,\n          150.0\n        ],\n        \"semantic_type\": \"\",\n        \"description\": \"\"\n      }\n    }\n  ]\n}",
              "type": "dataframe"
            },
            "text/html": [
              "\n",
              "  <div id=\"df-c12d451a-a2fb-4bc3-89ac-4d745074c00d\" class=\"colab-df-container\">\n",
              "    <div>\n",
              "<style scoped>\n",
              "    .dataframe tbody tr th:only-of-type {\n",
              "        vertical-align: middle;\n",
              "    }\n",
              "\n",
              "    .dataframe tbody tr th {\n",
              "        vertical-align: top;\n",
              "    }\n",
              "\n",
              "    .dataframe thead th {\n",
              "        text-align: right;\n",
              "    }\n",
              "</style>\n",
              "<table border=\"1\" class=\"dataframe\">\n",
              "  <thead>\n",
              "    <tr style=\"text-align: right;\">\n",
              "      <th></th>\n",
              "      <th>ID</th>\n",
              "      <th>QuickRatio</th>\n",
              "      <th>InventoryRatio</th>\n",
              "      <th>RevenueGrowth</th>\n",
              "      <th>MarketshareChange</th>\n",
              "    </tr>\n",
              "  </thead>\n",
              "  <tbody>\n",
              "    <tr>\n",
              "      <th>count</th>\n",
              "      <td>150.000000</td>\n",
              "      <td>150.000000</td>\n",
              "      <td>118.000000</td>\n",
              "      <td>150.000000</td>\n",
              "      <td>150.000000</td>\n",
              "    </tr>\n",
              "    <tr>\n",
              "      <th>mean</th>\n",
              "      <td>340.500000</td>\n",
              "      <td>1.602867</td>\n",
              "      <td>3.962034</td>\n",
              "      <td>-0.001267</td>\n",
              "      <td>-0.002667</td>\n",
              "    </tr>\n",
              "    <tr>\n",
              "      <th>std</th>\n",
              "      <td>195.491765</td>\n",
              "      <td>0.585409</td>\n",
              "      <td>2.147586</td>\n",
              "      <td>0.059712</td>\n",
              "      <td>0.016330</td>\n",
              "    </tr>\n",
              "    <tr>\n",
              "      <th>min</th>\n",
              "      <td>7.000000</td>\n",
              "      <td>0.520000</td>\n",
              "      <td>1.390000</td>\n",
              "      <td>-0.180000</td>\n",
              "      <td>-0.050000</td>\n",
              "    </tr>\n",
              "    <tr>\n",
              "      <th>25%</th>\n",
              "      <td>172.000000</td>\n",
              "      <td>1.075000</td>\n",
              "      <td>2.610000</td>\n",
              "      <td>-0.040000</td>\n",
              "      <td>-0.010000</td>\n",
              "    </tr>\n",
              "    <tr>\n",
              "      <th>50%</th>\n",
              "      <td>340.500000</td>\n",
              "      <td>1.745000</td>\n",
              "      <td>3.505000</td>\n",
              "      <td>0.010000</td>\n",
              "      <td>0.000000</td>\n",
              "    </tr>\n",
              "    <tr>\n",
              "      <th>75%</th>\n",
              "      <td>509.000000</td>\n",
              "      <td>2.090000</td>\n",
              "      <td>4.575000</td>\n",
              "      <td>0.040000</td>\n",
              "      <td>0.010000</td>\n",
              "    </tr>\n",
              "    <tr>\n",
              "      <th>max</th>\n",
              "      <td>674.000000</td>\n",
              "      <td>2.480000</td>\n",
              "      <td>17.110000</td>\n",
              "      <td>0.080000</td>\n",
              "      <td>0.020000</td>\n",
              "    </tr>\n",
              "  </tbody>\n",
              "</table>\n",
              "</div>\n",
              "    <div class=\"colab-df-buttons\">\n",
              "\n",
              "  <div class=\"colab-df-container\">\n",
              "    <button class=\"colab-df-convert\" onclick=\"convertToInteractive('df-c12d451a-a2fb-4bc3-89ac-4d745074c00d')\"\n",
              "            title=\"Convert this dataframe to an interactive table.\"\n",
              "            style=\"display:none;\">\n",
              "\n",
              "  <svg xmlns=\"http://www.w3.org/2000/svg\" height=\"24px\" viewBox=\"0 -960 960 960\">\n",
              "    <path d=\"M120-120v-720h720v720H120Zm60-500h600v-160H180v160Zm220 220h160v-160H400v160Zm0 220h160v-160H400v160ZM180-400h160v-160H180v160Zm440 0h160v-160H620v160ZM180-180h160v-160H180v160Zm440 0h160v-160H620v160Z\"/>\n",
              "  </svg>\n",
              "    </button>\n",
              "\n",
              "  <style>\n",
              "    .colab-df-container {\n",
              "      display:flex;\n",
              "      gap: 12px;\n",
              "    }\n",
              "\n",
              "    .colab-df-convert {\n",
              "      background-color: #E8F0FE;\n",
              "      border: none;\n",
              "      border-radius: 50%;\n",
              "      cursor: pointer;\n",
              "      display: none;\n",
              "      fill: #1967D2;\n",
              "      height: 32px;\n",
              "      padding: 0 0 0 0;\n",
              "      width: 32px;\n",
              "    }\n",
              "\n",
              "    .colab-df-convert:hover {\n",
              "      background-color: #E2EBFA;\n",
              "      box-shadow: 0px 1px 2px rgba(60, 64, 67, 0.3), 0px 1px 3px 1px rgba(60, 64, 67, 0.15);\n",
              "      fill: #174EA6;\n",
              "    }\n",
              "\n",
              "    .colab-df-buttons div {\n",
              "      margin-bottom: 4px;\n",
              "    }\n",
              "\n",
              "    [theme=dark] .colab-df-convert {\n",
              "      background-color: #3B4455;\n",
              "      fill: #D2E3FC;\n",
              "    }\n",
              "\n",
              "    [theme=dark] .colab-df-convert:hover {\n",
              "      background-color: #434B5C;\n",
              "      box-shadow: 0px 1px 3px 1px rgba(0, 0, 0, 0.15);\n",
              "      filter: drop-shadow(0px 1px 2px rgba(0, 0, 0, 0.3));\n",
              "      fill: #FFFFFF;\n",
              "    }\n",
              "  </style>\n",
              "\n",
              "    <script>\n",
              "      const buttonEl =\n",
              "        document.querySelector('#df-c12d451a-a2fb-4bc3-89ac-4d745074c00d button.colab-df-convert');\n",
              "      buttonEl.style.display =\n",
              "        google.colab.kernel.accessAllowed ? 'block' : 'none';\n",
              "\n",
              "      async function convertToInteractive(key) {\n",
              "        const element = document.querySelector('#df-c12d451a-a2fb-4bc3-89ac-4d745074c00d');\n",
              "        const dataTable =\n",
              "          await google.colab.kernel.invokeFunction('convertToInteractive',\n",
              "                                                    [key], {});\n",
              "        if (!dataTable) return;\n",
              "\n",
              "        const docLinkHtml = 'Like what you see? Visit the ' +\n",
              "          '<a target=\"_blank\" href=https://colab.research.google.com/notebooks/data_table.ipynb>data table notebook</a>'\n",
              "          + ' to learn more about interactive tables.';\n",
              "        element.innerHTML = '';\n",
              "        dataTable['output_type'] = 'display_data';\n",
              "        await google.colab.output.renderOutput(dataTable, element);\n",
              "        const docLink = document.createElement('div');\n",
              "        docLink.innerHTML = docLinkHtml;\n",
              "        element.appendChild(docLink);\n",
              "      }\n",
              "    </script>\n",
              "  </div>\n",
              "\n",
              "\n",
              "<div id=\"df-232fa7c5-7e10-4701-9472-3880ab0979de\">\n",
              "  <button class=\"colab-df-quickchart\" onclick=\"quickchart('df-232fa7c5-7e10-4701-9472-3880ab0979de')\"\n",
              "            title=\"Suggest charts\"\n",
              "            style=\"display:none;\">\n",
              "\n",
              "<svg xmlns=\"http://www.w3.org/2000/svg\" height=\"24px\"viewBox=\"0 0 24 24\"\n",
              "     width=\"24px\">\n",
              "    <g>\n",
              "        <path d=\"M19 3H5c-1.1 0-2 .9-2 2v14c0 1.1.9 2 2 2h14c1.1 0 2-.9 2-2V5c0-1.1-.9-2-2-2zM9 17H7v-7h2v7zm4 0h-2V7h2v10zm4 0h-2v-4h2v4z\"/>\n",
              "    </g>\n",
              "</svg>\n",
              "  </button>\n",
              "\n",
              "<style>\n",
              "  .colab-df-quickchart {\n",
              "      --bg-color: #E8F0FE;\n",
              "      --fill-color: #1967D2;\n",
              "      --hover-bg-color: #E2EBFA;\n",
              "      --hover-fill-color: #174EA6;\n",
              "      --disabled-fill-color: #AAA;\n",
              "      --disabled-bg-color: #DDD;\n",
              "  }\n",
              "\n",
              "  [theme=dark] .colab-df-quickchart {\n",
              "      --bg-color: #3B4455;\n",
              "      --fill-color: #D2E3FC;\n",
              "      --hover-bg-color: #434B5C;\n",
              "      --hover-fill-color: #FFFFFF;\n",
              "      --disabled-bg-color: #3B4455;\n",
              "      --disabled-fill-color: #666;\n",
              "  }\n",
              "\n",
              "  .colab-df-quickchart {\n",
              "    background-color: var(--bg-color);\n",
              "    border: none;\n",
              "    border-radius: 50%;\n",
              "    cursor: pointer;\n",
              "    display: none;\n",
              "    fill: var(--fill-color);\n",
              "    height: 32px;\n",
              "    padding: 0;\n",
              "    width: 32px;\n",
              "  }\n",
              "\n",
              "  .colab-df-quickchart:hover {\n",
              "    background-color: var(--hover-bg-color);\n",
              "    box-shadow: 0 1px 2px rgba(60, 64, 67, 0.3), 0 1px 3px 1px rgba(60, 64, 67, 0.15);\n",
              "    fill: var(--button-hover-fill-color);\n",
              "  }\n",
              "\n",
              "  .colab-df-quickchart-complete:disabled,\n",
              "  .colab-df-quickchart-complete:disabled:hover {\n",
              "    background-color: var(--disabled-bg-color);\n",
              "    fill: var(--disabled-fill-color);\n",
              "    box-shadow: none;\n",
              "  }\n",
              "\n",
              "  .colab-df-spinner {\n",
              "    border: 2px solid var(--fill-color);\n",
              "    border-color: transparent;\n",
              "    border-bottom-color: var(--fill-color);\n",
              "    animation:\n",
              "      spin 1s steps(1) infinite;\n",
              "  }\n",
              "\n",
              "  @keyframes spin {\n",
              "    0% {\n",
              "      border-color: transparent;\n",
              "      border-bottom-color: var(--fill-color);\n",
              "      border-left-color: var(--fill-color);\n",
              "    }\n",
              "    20% {\n",
              "      border-color: transparent;\n",
              "      border-left-color: var(--fill-color);\n",
              "      border-top-color: var(--fill-color);\n",
              "    }\n",
              "    30% {\n",
              "      border-color: transparent;\n",
              "      border-left-color: var(--fill-color);\n",
              "      border-top-color: var(--fill-color);\n",
              "      border-right-color: var(--fill-color);\n",
              "    }\n",
              "    40% {\n",
              "      border-color: transparent;\n",
              "      border-right-color: var(--fill-color);\n",
              "      border-top-color: var(--fill-color);\n",
              "    }\n",
              "    60% {\n",
              "      border-color: transparent;\n",
              "      border-right-color: var(--fill-color);\n",
              "    }\n",
              "    80% {\n",
              "      border-color: transparent;\n",
              "      border-right-color: var(--fill-color);\n",
              "      border-bottom-color: var(--fill-color);\n",
              "    }\n",
              "    90% {\n",
              "      border-color: transparent;\n",
              "      border-bottom-color: var(--fill-color);\n",
              "    }\n",
              "  }\n",
              "</style>\n",
              "\n",
              "  <script>\n",
              "    async function quickchart(key) {\n",
              "      const quickchartButtonEl =\n",
              "        document.querySelector('#' + key + ' button');\n",
              "      quickchartButtonEl.disabled = true;  // To prevent multiple clicks.\n",
              "      quickchartButtonEl.classList.add('colab-df-spinner');\n",
              "      try {\n",
              "        const charts = await google.colab.kernel.invokeFunction(\n",
              "            'suggestCharts', [key], {});\n",
              "      } catch (error) {\n",
              "        console.error('Error during call to suggestCharts:', error);\n",
              "      }\n",
              "      quickchartButtonEl.classList.remove('colab-df-spinner');\n",
              "      quickchartButtonEl.classList.add('colab-df-quickchart-complete');\n",
              "    }\n",
              "    (() => {\n",
              "      let quickchartButtonEl =\n",
              "        document.querySelector('#df-232fa7c5-7e10-4701-9472-3880ab0979de button');\n",
              "      quickchartButtonEl.style.display =\n",
              "        google.colab.kernel.accessAllowed ? 'block' : 'none';\n",
              "    })();\n",
              "  </script>\n",
              "</div>\n",
              "\n",
              "    </div>\n",
              "  </div>\n"
            ],
            "text/plain": [
              "               ID  QuickRatio  InventoryRatio  RevenueGrowth  \\\n",
              "count  150.000000  150.000000      118.000000     150.000000   \n",
              "mean   340.500000    1.602867        3.962034      -0.001267   \n",
              "std    195.491765    0.585409        2.147586       0.059712   \n",
              "min      7.000000    0.520000        1.390000      -0.180000   \n",
              "25%    172.000000    1.075000        2.610000      -0.040000   \n",
              "50%    340.500000    1.745000        3.505000       0.010000   \n",
              "75%    509.000000    2.090000        4.575000       0.040000   \n",
              "max    674.000000    2.480000       17.110000       0.080000   \n",
              "\n",
              "       MarketshareChange  \n",
              "count         150.000000  \n",
              "mean           -0.002667  \n",
              "std             0.016330  \n",
              "min            -0.050000  \n",
              "25%            -0.010000  \n",
              "50%             0.000000  \n",
              "75%             0.010000  \n",
              "max             0.020000  "
            ]
          },
          "execution_count": 7,
          "metadata": {},
          "output_type": "execute_result"
        }
      ],
      "source": [
        "test.describe()"
      ]
    },
    {
      "cell_type": "code",
      "execution_count": null,
      "metadata": {
        "colab": {
          "base_uri": "https://localhost:8080/"
        },
        "id": "lk6Yxxc4hBuG",
        "outputId": "b2fbfab7-5ecf-402d-c7e0-38d9b023def2"
      },
      "outputs": [
        {
          "data": {
            "text/plain": [
              "ID                     0\n",
              "Company                0\n",
              "Quarter                0\n",
              "QuickRatio             0\n",
              "InventoryRatio       152\n",
              "RevenueGrowth          0\n",
              "MarketshareChange      0\n",
              "Bond rating            0\n",
              "Stock rating           0\n",
              "Region                 0\n",
              "Industry               0\n",
              "Sales                150\n",
              "dtype: int64"
            ]
          },
          "execution_count": 8,
          "metadata": {},
          "output_type": "execute_result"
        }
      ],
      "source": [
        "train.isnull().sum()"
      ]
    },
    {
      "cell_type": "code",
      "execution_count": null,
      "metadata": {
        "id": "WdA9iVcQhKZn"
      },
      "outputs": [],
      "source": [
        "# Handle missing values in the 'Sales' column\n",
        "train['Sales'].fillna(train['Sales'].mean(), inplace=True)"
      ]
    },
    {
      "cell_type": "code",
      "execution_count": null,
      "metadata": {
        "colab": {
          "base_uri": "https://localhost:8080/"
        },
        "id": "rb_hYSGFhPcl",
        "outputId": "dbe986ab-60a1-4f06-bab7-16231750f70a"
      },
      "outputs": [
        {
          "name": "stdout",
          "output_type": "stream",
          "text": [
            "   Company  InventoryRatio\n",
            "0    CMP01        5.081429\n",
            "1    CMP02        3.610000\n",
            "2    CMP03             NaN\n",
            "3    CMP04        3.917143\n",
            "4    CMP05        2.397143\n",
            "..     ...             ...\n",
            "70   CMP71        8.165714\n",
            "71   CMP72             NaN\n",
            "72   CMP73        7.053333\n",
            "73   CMP74        5.407500\n",
            "74   CMP75        2.929375\n",
            "\n",
            "[75 rows x 2 columns]\n"
          ]
        }
      ],
      "source": [
        "from sklearn.impute import SimpleImputer, KNNImputer\n",
        "# Create an instance of the KNNImputer\n",
        "imputer = KNNImputer()\n",
        "\n",
        "\n",
        "import pandas as pd\n",
        "\n",
        "# Sample DataFrame 'train' with columns 'ID', 'company', 'quarter', and 'inventoryratio'\n",
        "# Replace this with your actual DataFrame\n",
        "\n",
        "# Group by 'company' to calculate mean inventory ratio for each company\n",
        "mean_inventory_by_company = train.groupby('Company')['InventoryRatio'].mean().reset_index()\n",
        "\n",
        "print( mean_inventory_by_company)\n",
        "\n",
        "# Iterate over rows in DataFrame\n",
        "for index, row in train.iterrows():\n",
        "    # If inventory ratio is missing or equal to 0, impute it with the mean for that company\n",
        "    if pd.isnull(row['InventoryRatio']) or row['InventoryRatio'] == 0:\n",
        "        company = row['Company']\n",
        "        company_mean = mean_inventory_by_company.loc[mean_inventory_by_company['Company'] == company, 'InventoryRatio'].values[0]\n",
        "        train.at[index, 'InventoryRatio'] = company_mean\n",
        "\n",
        "\n",
        "\n",
        "\n",
        "\n",
        "\n"
      ]
    },
    {
      "cell_type": "code",
      "execution_count": null,
      "metadata": {
        "colab": {
          "base_uri": "https://localhost:8080/"
        },
        "id": "6nFDKZkGQNUj",
        "outputId": "f0a40cf4-bd0d-44bd-823a-8a58f8a0ffce"
      },
      "outputs": [
        {
          "data": {
            "text/plain": [
              "ID                    0\n",
              "Company               0\n",
              "Quarter               0\n",
              "QuickRatio            0\n",
              "InventoryRatio       88\n",
              "RevenueGrowth         0\n",
              "MarketshareChange     0\n",
              "Bond rating           0\n",
              "Stock rating          0\n",
              "Region                0\n",
              "Industry              0\n",
              "Sales                 0\n",
              "dtype: int64"
            ]
          },
          "execution_count": 11,
          "metadata": {},
          "output_type": "execute_result"
        }
      ],
      "source": [
        "train.isnull().sum()"
      ]
    },
    {
      "cell_type": "code",
      "execution_count": null,
      "metadata": {
        "colab": {
          "base_uri": "https://localhost:8080/"
        },
        "id": "3rRqhp_JQScq",
        "outputId": "04f46242-17d6-43dc-d65d-337fbba4cda5"
      },
      "outputs": [
        {
          "name": "stdout",
          "output_type": "stream",
          "text": [
            "      ID Company Quarter  QuickRatio  InventoryRatio  RevenueGrowth  \\\n",
            "0      0   CMP01      Q1        2.02            7.71           0.05   \n",
            "1      1   CMP01      Q2        2.01            4.10           0.03   \n",
            "2      2   CMP01      Q3        2.02            6.79           0.06   \n",
            "3      3   CMP01      Q4        1.98            3.97           0.01   \n",
            "4      4   CMP01      Q5        1.96            7.41          -0.07   \n",
            "..   ...     ...     ...         ...             ...            ...   \n",
            "670  670   CMP75      Q5        2.22            2.32          -0.13   \n",
            "671  671   CMP75      Q6        2.23            2.14          -0.10   \n",
            "672  672   CMP75      Q7        2.20            1.95          -0.08   \n",
            "673  673   CMP75      Q8        2.21            5.43           0.04   \n",
            "674  674   CMP75      Q9        2.21            2.60          -0.07   \n",
            "\n",
            "     MarketshareChange Bond rating Stock rating Region           Industry  \\\n",
            "0                -0.04         CCC          Buy  South  Metal Fabrication   \n",
            "1                 0.00         CCC         Hold  South  Metal Fabrication   \n",
            "2                -0.02         CCC          Buy  South  Metal Fabrication   \n",
            "3                 0.02         CCC          Buy  South  Metal Fabrication   \n",
            "4                 0.02         CCC          Buy  South  Metal Fabrication   \n",
            "..                 ...         ...          ...    ...                ...   \n",
            "670               0.00           A         Hold   West         Automobile   \n",
            "671               0.01           A          Buy   West         Automobile   \n",
            "672               0.01         BBB          Buy   West         Automobile   \n",
            "673               0.01         BBB         Hold   West         Automobile   \n",
            "674              -0.02          BB         Sell   West         Automobile   \n",
            "\n",
            "           Sales  \n",
            "0    1517.000000  \n",
            "1    2968.000000  \n",
            "2    1497.000000  \n",
            "3    2929.000000  \n",
            "4    1452.000000  \n",
            "..           ...  \n",
            "670  3556.708571  \n",
            "671  3556.708571  \n",
            "672  3556.708571  \n",
            "673  3556.708571  \n",
            "674  3556.708571  \n",
            "\n",
            "[675 rows x 12 columns]\n"
          ]
        }
      ],
      "source": [
        "# Calculate overall mean inventory ratio for the entire dataset\n",
        "overall_mean_inventory_ratio = train['InventoryRatio'].mean()\n",
        "\n",
        "# Impute missing inventory ratio values by overall mean\n",
        "train['InventoryRatio'].fillna(overall_mean_inventory_ratio, inplace=True)\n",
        "\n",
        "# Display the DataFrame after imputation\n",
        "print(train)\n"
      ]
    },
    {
      "cell_type": "code",
      "execution_count": null,
      "metadata": {
        "colab": {
          "base_uri": "https://localhost:8080/"
        },
        "id": "PvVZ_IOzQouC",
        "outputId": "c3b477d1-4e18-4332-824f-36077098674a"
      },
      "outputs": [
        {
          "data": {
            "text/plain": [
              "ID                   0\n",
              "Company              0\n",
              "Quarter              0\n",
              "QuickRatio           0\n",
              "InventoryRatio       0\n",
              "RevenueGrowth        0\n",
              "MarketshareChange    0\n",
              "Bond rating          0\n",
              "Stock rating         0\n",
              "Region               0\n",
              "Industry             0\n",
              "Sales                0\n",
              "dtype: int64"
            ]
          },
          "execution_count": 13,
          "metadata": {},
          "output_type": "execute_result"
        }
      ],
      "source": [
        "train.isnull().sum()"
      ]
    },
    {
      "cell_type": "code",
      "execution_count": null,
      "metadata": {
        "colab": {
          "base_uri": "https://localhost:8080/"
        },
        "id": "TnRV_FwfQspS",
        "outputId": "c383e4a2-b240-4b16-94b3-04ec67c7b351"
      },
      "outputs": [
        {
          "name": "stdout",
          "output_type": "stream",
          "text": [
            "   Company  InventoryRatio\n",
            "0    CMP01           3.780\n",
            "1    CMP02           3.240\n",
            "2    CMP03             NaN\n",
            "3    CMP04           3.845\n",
            "4    CMP05           2.460\n",
            "..     ...             ...\n",
            "70   CMP71           5.270\n",
            "71   CMP72             NaN\n",
            "72   CMP73           6.860\n",
            "73   CMP74           5.570\n",
            "74   CMP75           4.015\n",
            "\n",
            "[75 rows x 2 columns]\n"
          ]
        }
      ],
      "source": [
        "from sklearn.impute import SimpleImputer, KNNImputer\n",
        "# Create an instance of the KNNImputer\n",
        "imputer = KNNImputer()\n",
        "\n",
        "\n",
        "import pandas as pd\n",
        "\n",
        "# Sample DataFrame 'train' with columns 'ID', 'company', 'quarter', and 'inventoryratio'\n",
        "# Replace this with your actual DataFrame\n",
        "\n",
        "# Group by 'company' to calculate mean inventory ratio for each company\n",
        "mean_inventory_by_company = test.groupby('Company')['InventoryRatio'].mean().reset_index()\n",
        "\n",
        "print( mean_inventory_by_company)\n",
        "\n",
        "# Iterate over rows in DataFrame\n",
        "for index, row in test.iterrows():\n",
        "    # If inventory ratio is missing or equal to 0, impute it with the mean for that company\n",
        "    if pd.isnull(row['InventoryRatio']) or row['InventoryRatio'] == 0:\n",
        "        company = row['Company']\n",
        "        company_mean = mean_inventory_by_company.loc[mean_inventory_by_company['Company'] == company, 'InventoryRatio'].values[0]\n",
        "        test.at[index, 'InventoryRatio'] = company_mean\n",
        "\n",
        "\n",
        "\n",
        "\n",
        "\n",
        "\n"
      ]
    },
    {
      "cell_type": "code",
      "execution_count": null,
      "metadata": {
        "colab": {
          "base_uri": "https://localhost:8080/"
        },
        "id": "-CJnzymRQ3DY",
        "outputId": "4159cc98-582a-406f-f28f-f8426297485b"
      },
      "outputs": [
        {
          "data": {
            "text/plain": [
              "ID                    0\n",
              "Company               0\n",
              "Quarter               0\n",
              "QuickRatio            0\n",
              "InventoryRatio       30\n",
              "RevenueGrowth         0\n",
              "MarketshareChange     0\n",
              "Bond rating           0\n",
              "Stock rating          0\n",
              "Region                0\n",
              "Industry              0\n",
              "dtype: int64"
            ]
          },
          "execution_count": 15,
          "metadata": {},
          "output_type": "execute_result"
        }
      ],
      "source": [
        "test.isnull().sum()"
      ]
    },
    {
      "cell_type": "code",
      "execution_count": null,
      "metadata": {
        "colab": {
          "base_uri": "https://localhost:8080/"
        },
        "id": "qZOLbQmUQ7HJ",
        "outputId": "3149cd09-0690-4d6b-fa9a-81ef53375bcf"
      },
      "outputs": [
        {
          "name": "stdout",
          "output_type": "stream",
          "text": [
            "      ID Company Quarter  QuickRatio  InventoryRatio  RevenueGrowth  \\\n",
            "0      7   CMP01      Q8        1.93        2.790000          -0.03   \n",
            "1      8   CMP01      Q9        1.93        4.770000           0.00   \n",
            "2     16   CMP02      Q8        1.97        2.340000           0.04   \n",
            "3     17   CMP02      Q9        1.93        4.140000           0.04   \n",
            "4     25   CMP03      Q8        0.67        4.066083          -0.05   \n",
            "..   ...     ...     ...         ...             ...            ...   \n",
            "145  656   CMP73      Q9        0.93        6.860000           0.01   \n",
            "146  664   CMP74      Q8        1.30        6.180000           0.00   \n",
            "147  665   CMP74      Q9        1.28        4.960000           0.04   \n",
            "148  673   CMP75      Q8        2.21        5.430000           0.04   \n",
            "149  674   CMP75      Q9        2.21        2.600000          -0.07   \n",
            "\n",
            "     MarketshareChange Bond rating Stock rating Region           Industry  \n",
            "0                -0.01         CCC          Buy  South  Metal Fabrication  \n",
            "1                 0.00         CCC          Buy  South  Metal Fabrication  \n",
            "2                -0.03           A         Sell   West     Infrastructure  \n",
            "3                 0.01         BBB         Hold   West     Infrastructure  \n",
            "4                -0.01          BB          Buy   East     Infrastructure  \n",
            "..                 ...         ...          ...    ...                ...  \n",
            "145               0.01         BBB          Buy   West         Automobile  \n",
            "146              -0.02          AA          Buy  South  Metal Fabrication  \n",
            "147               0.01          AA          Buy  South  Metal Fabrication  \n",
            "148               0.01         BBB         Hold   West         Automobile  \n",
            "149              -0.02          BB         Sell   West         Automobile  \n",
            "\n",
            "[150 rows x 11 columns]\n"
          ]
        }
      ],
      "source": [
        "# Calculate overall mean inventory ratio for the entire dataset\n",
        "overall_mean_inventory_ratio_test = test['InventoryRatio'].mean()\n",
        "\n",
        "# Impute missing inventory ratio values by overall mean\n",
        "test['InventoryRatio'].fillna(overall_mean_inventory_ratio_test, inplace=True)\n",
        "\n",
        "# Display the DataFrame after imputation\n",
        "print(test)\n"
      ]
    },
    {
      "cell_type": "code",
      "execution_count": null,
      "metadata": {
        "colab": {
          "base_uri": "https://localhost:8080/"
        },
        "id": "-uOsBI9gRF1V",
        "outputId": "92089927-3d04-4f6f-aa56-2324dd5ecc23"
      },
      "outputs": [
        {
          "data": {
            "text/plain": [
              "ID                   0\n",
              "Company              0\n",
              "Quarter              0\n",
              "QuickRatio           0\n",
              "InventoryRatio       0\n",
              "RevenueGrowth        0\n",
              "MarketshareChange    0\n",
              "Bond rating          0\n",
              "Stock rating         0\n",
              "Region               0\n",
              "Industry             0\n",
              "dtype: int64"
            ]
          },
          "execution_count": 17,
          "metadata": {},
          "output_type": "execute_result"
        }
      ],
      "source": [
        "test.isnull().sum()"
      ]
    },
    {
      "cell_type": "code",
      "execution_count": null,
      "metadata": {
        "id": "4gNSF3z0iZfr"
      },
      "outputs": [],
      "source": [
        "# Define mapping dictionary for months to quarter numbers\n",
        "month_to_quarter = {\n",
        "    1: 1, 2: 1, 3: 1,\n",
        "    4: 2, 5: 2, 6: 2,\n",
        "    7: 3, 8: 3, 9: 3,\n",
        "    10: 4, 11: 4, 12: 4,\n",
        "    13: 5, 14: 5, 15: 5,\n",
        "    16: 6, 17: 6, 18: 6,\n",
        "    19: 7, 20: 7, 21: 7,\n",
        "    22: 8, 23: 8, 24: 8,\n",
        "    25: 9, 26: 9, 27: 9,\n",
        "    28: 10, 29: 10, 30: 10,\n",
        "}\n"
      ]
    },
    {
      "cell_type": "code",
      "execution_count": null,
      "metadata": {
        "id": "ocYNwvinjYzX"
      },
      "outputs": [],
      "source": [
        "# Feature Engineering\n",
        "train['Quarter_Num'] = train['Quarter'].str[1].astype(int)\n",
        "test['Quarter_Num'] = test['Quarter'].str[1].astype(int)"
      ]
    },
    {
      "cell_type": "code",
      "execution_count": null,
      "metadata": {
        "id": "Dasku5BfipOS"
      },
      "outputs": [],
      "source": [
        "# Map Month column to Quarter_Num based on the mapping dictionary\n",
        "EcoIndicators['Quarter_Num'] = EcoIndicators['Month'].map(month_to_quarter)"
      ]
    },
    {
      "cell_type": "code",
      "execution_count": null,
      "metadata": {
        "id": "Y9XIw1u7i-2T"
      },
      "outputs": [],
      "source": [
        "# Merge train_df and economic_indicators_df based on the Quarter_Num column\n",
        "train_merged = pd.merge(train, EcoIndicators, how='left', on='Quarter_Num')\n",
        "\n",
        "# Merge test_df and economic_indicators_df based on the Quarter_Num column\n",
        "test_merged = pd.merge(test, EcoIndicators, how='left', on='Quarter_Num')\n"
      ]
    },
    {
      "cell_type": "code",
      "execution_count": null,
      "metadata": {
        "id": "mLPRO0eAjoF1"
      },
      "outputs": [],
      "source": [
        "train_merged.drop('Month', axis=1, inplace=True)\n",
        "test_merged.drop('Month', axis=1, inplace=True)"
      ]
    },
    {
      "cell_type": "code",
      "execution_count": null,
      "metadata": {
        "colab": {
          "base_uri": "https://localhost:8080/"
        },
        "id": "P66h2jLkjrAe",
        "outputId": "f1636c73-6fe9-46a5-d586-8a7a6df85456"
      },
      "outputs": [
        {
          "data": {
            "text/plain": [
              "ID                   0\n",
              "Company              0\n",
              "Quarter              0\n",
              "QuickRatio           0\n",
              "InventoryRatio       0\n",
              "RevenueGrowth        0\n",
              "MarketshareChange    0\n",
              "Bond rating          0\n",
              "Stock rating         0\n",
              "Region               0\n",
              "Industry             0\n",
              "Sales                0\n",
              "Quarter_Num          0\n",
              "dtype: int64"
            ]
          },
          "execution_count": 23,
          "metadata": {},
          "output_type": "execute_result"
        }
      ],
      "source": [
        "train.isnull().sum()"
      ]
    },
    {
      "cell_type": "code",
      "execution_count": null,
      "metadata": {
        "colab": {
          "base_uri": "https://localhost:8080/"
        },
        "id": "k_LBnHF1jt_v",
        "outputId": "9653d16d-030f-409f-b80a-0e3fb9f8d716"
      },
      "outputs": [
        {
          "data": {
            "text/plain": [
              "ID                   0\n",
              "Company              0\n",
              "Quarter              0\n",
              "QuickRatio           0\n",
              "InventoryRatio       0\n",
              "RevenueGrowth        0\n",
              "MarketshareChange    0\n",
              "Bond rating          0\n",
              "Stock rating         0\n",
              "Region               0\n",
              "Industry             0\n",
              "Quarter_Num          0\n",
              "dtype: int64"
            ]
          },
          "execution_count": 24,
          "metadata": {},
          "output_type": "execute_result"
        }
      ],
      "source": [
        "test.isnull().sum()"
      ]
    },
    {
      "cell_type": "code",
      "execution_count": null,
      "metadata": {
        "id": "02Q7Tk1EjzW6"
      },
      "outputs": [],
      "source": [
        "train_data = train_merged\n",
        "test_data = test_merged"
      ]
    },
    {
      "cell_type": "code",
      "execution_count": null,
      "metadata": {
        "colab": {
          "base_uri": "https://localhost:8080/"
        },
        "id": "i_5-K8gLj45e",
        "outputId": "04100deb-c80e-4c02-d260-dab1ac1e2d32"
      },
      "outputs": [
        {
          "name": "stdout",
          "output_type": "stream",
          "text": [
            "<class 'pandas.core.frame.DataFrame'>\n",
            "RangeIndex: 2025 entries, 0 to 2024\n",
            "Data columns (total 22 columns):\n",
            " #   Column              Non-Null Count  Dtype  \n",
            "---  ------              --------------  -----  \n",
            " 0   ID                  2025 non-null   int64  \n",
            " 1   Company             2025 non-null   object \n",
            " 2   Quarter             2025 non-null   object \n",
            " 3   QuickRatio          2025 non-null   float64\n",
            " 4   InventoryRatio      2025 non-null   float64\n",
            " 5   RevenueGrowth       2025 non-null   float64\n",
            " 6   MarketshareChange   2025 non-null   float64\n",
            " 7   Bond rating         2025 non-null   object \n",
            " 8   Stock rating        2025 non-null   object \n",
            " 9   Region              2025 non-null   object \n",
            " 10  Industry            2025 non-null   object \n",
            " 11  Sales               2025 non-null   float64\n",
            " 12  Quarter_Num         2025 non-null   int64  \n",
            " 13  Consumer Sentiment  2025 non-null   float64\n",
            " 14  Interest Rate       2025 non-null   float64\n",
            " 15  PMI                 2025 non-null   float64\n",
            " 16  Money Supply        2025 non-null   float64\n",
            " 17  NationalEAI         2025 non-null   float64\n",
            " 18  EastEAI             2025 non-null   float64\n",
            " 19  WestEAI             2025 non-null   float64\n",
            " 20  SouthEAI            2025 non-null   float64\n",
            " 21  NorthEAI            2025 non-null   float64\n",
            "dtypes: float64(14), int64(2), object(6)\n",
            "memory usage: 348.2+ KB\n"
          ]
        }
      ],
      "source": [
        "train_data.info()"
      ]
    },
    {
      "cell_type": "code",
      "execution_count": null,
      "metadata": {
        "id": "kkwzNR6Yj68a"
      },
      "outputs": [],
      "source": [
        "# Drop duplicate 'ID' values from the test dataset\n",
        "test_data = test_data.drop_duplicates(subset='ID', keep='first')"
      ]
    },
    {
      "cell_type": "code",
      "execution_count": null,
      "metadata": {
        "id": "TkyS0L1vkM3q"
      },
      "outputs": [],
      "source": [
        "company_dummies = pd.get_dummies(train_data['Company'], prefix='Company')\n",
        "train_data = pd.concat([train_data, company_dummies], axis=1)\n",
        "train_data.drop('Company', axis=1, inplace=True)"
      ]
    },
    {
      "cell_type": "code",
      "execution_count": null,
      "metadata": {
        "id": "Lie5b3KckO0f"
      },
      "outputs": [],
      "source": [
        "bond_rating_mapping = {'AAA': 7, 'AA': 6, 'A': 5, 'BBB': 4, 'BB': 3, 'B': 2, 'CCC': 1} #checked\n",
        "train_data['Bond rating'] = train_data['Bond rating'].map(bond_rating_mapping)"
      ]
    },
    {
      "cell_type": "code",
      "execution_count": null,
      "metadata": {
        "id": "9mxkQGoRkRoF"
      },
      "outputs": [],
      "source": [
        "stock_rating_mapping = {'Strong Buy': 5, 'Buy': 4, 'Hold': 3, 'Sell': 2, 'Strong Sell': 1} #Checked\n",
        "train_data['Stock rating'] = train_data['Stock rating'].map(stock_rating_mapping)"
      ]
    },
    {
      "cell_type": "code",
      "execution_count": null,
      "metadata": {
        "id": "kDwR7kRckTsb"
      },
      "outputs": [],
      "source": [
        "region_dummies = pd.get_dummies(train_data['Region'], prefix='Region') #Checked\n",
        "train_data = pd.concat([train_data, region_dummies], axis=1)\n",
        "train_data.drop('Region', axis=1, inplace=True)"
      ]
    },
    {
      "cell_type": "code",
      "execution_count": null,
      "metadata": {
        "id": "XgIxwUgxkVoq"
      },
      "outputs": [],
      "source": [
        "industry_dummies = pd.get_dummies(train_data['Industry'], prefix='Industry')\n",
        "train_data = pd.concat([train_data, industry_dummies], axis=1)\n",
        "train_data.drop('Industry', axis=1, inplace=True)"
      ]
    },
    {
      "cell_type": "code",
      "execution_count": null,
      "metadata": {
        "id": "WR-rrYwqkZGz"
      },
      "outputs": [],
      "source": [
        "# Company\n",
        "company_dummies_test = pd.get_dummies(test_data['Company'], prefix='Company')\n",
        "test_data = pd.concat([test_data, company_dummies_test], axis=1)\n",
        "test_data.drop('Company', axis=1, inplace=True)\n",
        "\n",
        "# Bond Rating\n",
        "test_data['Bond rating'] = test_data['Bond rating'].map(bond_rating_mapping)\n",
        "\n",
        "# Stock Rating\n",
        "test_data['Stock rating'] = test_data['Stock rating'].map(stock_rating_mapping)\n",
        "\n",
        "# Region\n",
        "region_dummies_test = pd.get_dummies(test_data['Region'], prefix='Region')\n",
        "test_data = pd.concat([test_data, region_dummies_test], axis=1)\n",
        "test_data.drop('Region', axis=1, inplace=True)\n",
        "\n",
        "# Industry\n",
        "industry_dummies_test = pd.get_dummies(test_data['Industry'], prefix='Industry')\n",
        "test_data = pd.concat([test_data, industry_dummies_test], axis=1)\n",
        "test_data.drop('Industry', axis=1, inplace=True)"
      ]
    },
    {
      "cell_type": "code",
      "execution_count": null,
      "metadata": {
        "id": "o6lKs-Dckb3a"
      },
      "outputs": [],
      "source": [
        "# Replace spaces with underscores in column names\n",
        "train_data.columns = train_data.columns.str.replace(' ', '_')\n",
        "test_data.columns = test_data.columns.str.replace(' ', '_')"
      ]
    },
    {
      "cell_type": "code",
      "execution_count": null,
      "metadata": {
        "id": "-d9A_65Skdej"
      },
      "outputs": [],
      "source": [
        "# Drop the 'ID' column from the train dataset\n",
        "#train_data.drop('ID', axis=1, inplace=True)\n",
        "train_data.drop('Quarter', axis=1, inplace=True)\n",
        "test_data.drop('Quarter', axis=1, inplace=True)\n"
      ]
    },
    {
      "cell_type": "code",
      "execution_count": null,
      "metadata": {
        "id": "ZRAns5FUYErS"
      },
      "outputs": [],
      "source": [
        "# Assuming 'sales' is your target variable\n",
        "X_train = train_data.drop(columns=['Sales'])\n",
        "y_train = train_data['Sales']\n"
      ]
    },
    {
      "cell_type": "code",
      "execution_count": null,
      "metadata": {
        "id": "N_1urUPBB3it"
      },
      "outputs": [],
      "source": [
        "from sklearn.model_selection import train_test_split\n",
        "from sklearn.preprocessing import StandardScaler\n",
        "from sklearn.ensemble import RandomForestRegressor\n",
        "from sklearn.metrics import mean_squared_error\n",
        "\n",
        "# Split data into training, validation, and testing sets\n",
        "X_train, X_val, y_train, y_val = train_test_split(X_train, y_train, test_size=0.2, random_state=42)\n",
        "X_val, X_test, y_val, y_test = train_test_split(X_val, y_val, test_size=0.5, random_state=42)\n",
        "\n",
        "\n",
        "\n",
        "\n"
      ]
    },
    {
      "cell_type": "code",
      "execution_count": null,
      "metadata": {
        "id": "6izGNbqXZ51z"
      },
      "outputs": [],
      "source": [
        "# Create the scaler\n",
        "scaler = StandardScaler()\n",
        "\n",
        "# Fit on training data and transform training and testing data\n",
        "X_train_scaled = scaler.fit_transform(X_train)\n",
        "X_val_scaled = scaler.transform(X_val)\n",
        "X_test_scaled = scaler.transform(X_test)\n"
      ]
    },
    {
      "cell_type": "code",
      "execution_count": null,
      "metadata": {
        "colab": {
          "base_uri": "https://localhost:8080/",
          "height": 74
        },
        "id": "Sn5zLEehCR3q",
        "outputId": "6b2d160d-b954-4f7a-f331-d58ad7ee7bff"
      },
      "outputs": [
        {
          "output_type": "execute_result",
          "data": {
            "text/plain": [
              "RandomForestRegressor(n_estimators=8000, random_state=42)"
            ],
            "text/html": [
              "<style>#sk-container-id-3 {color: black;background-color: white;}#sk-container-id-3 pre{padding: 0;}#sk-container-id-3 div.sk-toggleable {background-color: white;}#sk-container-id-3 label.sk-toggleable__label {cursor: pointer;display: block;width: 100%;margin-bottom: 0;padding: 0.3em;box-sizing: border-box;text-align: center;}#sk-container-id-3 label.sk-toggleable__label-arrow:before {content: \"▸\";float: left;margin-right: 0.25em;color: #696969;}#sk-container-id-3 label.sk-toggleable__label-arrow:hover:before {color: black;}#sk-container-id-3 div.sk-estimator:hover label.sk-toggleable__label-arrow:before {color: black;}#sk-container-id-3 div.sk-toggleable__content {max-height: 0;max-width: 0;overflow: hidden;text-align: left;background-color: #f0f8ff;}#sk-container-id-3 div.sk-toggleable__content pre {margin: 0.2em;color: black;border-radius: 0.25em;background-color: #f0f8ff;}#sk-container-id-3 input.sk-toggleable__control:checked~div.sk-toggleable__content {max-height: 200px;max-width: 100%;overflow: auto;}#sk-container-id-3 input.sk-toggleable__control:checked~label.sk-toggleable__label-arrow:before {content: \"▾\";}#sk-container-id-3 div.sk-estimator input.sk-toggleable__control:checked~label.sk-toggleable__label {background-color: #d4ebff;}#sk-container-id-3 div.sk-label input.sk-toggleable__control:checked~label.sk-toggleable__label {background-color: #d4ebff;}#sk-container-id-3 input.sk-hidden--visually {border: 0;clip: rect(1px 1px 1px 1px);clip: rect(1px, 1px, 1px, 1px);height: 1px;margin: -1px;overflow: hidden;padding: 0;position: absolute;width: 1px;}#sk-container-id-3 div.sk-estimator {font-family: monospace;background-color: #f0f8ff;border: 1px dotted black;border-radius: 0.25em;box-sizing: border-box;margin-bottom: 0.5em;}#sk-container-id-3 div.sk-estimator:hover {background-color: #d4ebff;}#sk-container-id-3 div.sk-parallel-item::after {content: \"\";width: 100%;border-bottom: 1px solid gray;flex-grow: 1;}#sk-container-id-3 div.sk-label:hover label.sk-toggleable__label {background-color: #d4ebff;}#sk-container-id-3 div.sk-serial::before {content: \"\";position: absolute;border-left: 1px solid gray;box-sizing: border-box;top: 0;bottom: 0;left: 50%;z-index: 0;}#sk-container-id-3 div.sk-serial {display: flex;flex-direction: column;align-items: center;background-color: white;padding-right: 0.2em;padding-left: 0.2em;position: relative;}#sk-container-id-3 div.sk-item {position: relative;z-index: 1;}#sk-container-id-3 div.sk-parallel {display: flex;align-items: stretch;justify-content: center;background-color: white;position: relative;}#sk-container-id-3 div.sk-item::before, #sk-container-id-3 div.sk-parallel-item::before {content: \"\";position: absolute;border-left: 1px solid gray;box-sizing: border-box;top: 0;bottom: 0;left: 50%;z-index: -1;}#sk-container-id-3 div.sk-parallel-item {display: flex;flex-direction: column;z-index: 1;position: relative;background-color: white;}#sk-container-id-3 div.sk-parallel-item:first-child::after {align-self: flex-end;width: 50%;}#sk-container-id-3 div.sk-parallel-item:last-child::after {align-self: flex-start;width: 50%;}#sk-container-id-3 div.sk-parallel-item:only-child::after {width: 0;}#sk-container-id-3 div.sk-dashed-wrapped {border: 1px dashed gray;margin: 0 0.4em 0.5em 0.4em;box-sizing: border-box;padding-bottom: 0.4em;background-color: white;}#sk-container-id-3 div.sk-label label {font-family: monospace;font-weight: bold;display: inline-block;line-height: 1.2em;}#sk-container-id-3 div.sk-label-container {text-align: center;}#sk-container-id-3 div.sk-container {/* jupyter's `normalize.less` sets `[hidden] { display: none; }` but bootstrap.min.css set `[hidden] { display: none !important; }` so we also need the `!important` here to be able to override the default hidden behavior on the sphinx rendered scikit-learn.org. See: https://github.com/scikit-learn/scikit-learn/issues/21755 */display: inline-block !important;position: relative;}#sk-container-id-3 div.sk-text-repr-fallback {display: none;}</style><div id=\"sk-container-id-3\" class=\"sk-top-container\"><div class=\"sk-text-repr-fallback\"><pre>RandomForestRegressor(n_estimators=8000, random_state=42)</pre><b>In a Jupyter environment, please rerun this cell to show the HTML representation or trust the notebook. <br />On GitHub, the HTML representation is unable to render, please try loading this page with nbviewer.org.</b></div><div class=\"sk-container\" hidden><div class=\"sk-item\"><div class=\"sk-estimator sk-toggleable\"><input class=\"sk-toggleable__control sk-hidden--visually\" id=\"sk-estimator-id-3\" type=\"checkbox\" checked><label for=\"sk-estimator-id-3\" class=\"sk-toggleable__label sk-toggleable__label-arrow\">RandomForestRegressor</label><div class=\"sk-toggleable__content\"><pre>RandomForestRegressor(n_estimators=8000, random_state=42)</pre></div></div></div></div></div>"
            ]
          },
          "metadata": {},
          "execution_count": 72
        }
      ],
      "source": [
        "# Create and train the Random Forest model using transformed features\n",
        "rf_model = RandomForestRegressor(n_estimators=8000, random_state=42)\n",
        "rf_model.fit(X_train, y_train)\n",
        "\n"
      ]
    },
    {
      "cell_type": "code",
      "execution_count": null,
      "metadata": {
        "colab": {
          "base_uri": "https://localhost:8080/"
        },
        "id": "7g4Zek76CT72",
        "outputId": "1719144e-f866-4853-e662-6a58d8a79295"
      },
      "outputs": [
        {
          "output_type": "stream",
          "name": "stderr",
          "text": [
            "/usr/local/lib/python3.10/dist-packages/sklearn/base.py:432: UserWarning: X has feature names, but RandomForestRegressor was fitted without feature names\n",
            "  warnings.warn(\n"
          ]
        },
        {
          "output_type": "stream",
          "name": "stdout",
          "text": [
            "validation MAE: 1389.0686254597051\n"
          ]
        }
      ],
      "source": [
        "# Make predictions on the testing set\n",
        "y_val_pred = rf_model.predict(X_val)\n",
        "\n",
        "from sklearn.metrics import mean_absolute_error\n",
        "# Calculate Mean Squared Error on the testing set\n",
        "mae_val = mean_absolute_error(y_val, y_val_pred)\n",
        "print(\"validation MAE:\", mae_val)\n"
      ]
    },
    {
      "cell_type": "code",
      "execution_count": null,
      "metadata": {
        "colab": {
          "base_uri": "https://localhost:8080/"
        },
        "id": "q7UAmjwrWiK5",
        "outputId": "ed689909-c9bc-4c96-9308-ec2b63e431e2"
      },
      "outputs": [
        {
          "name": "stdout",
          "output_type": "stream",
          "text": [
            "validation MSE: 691.9546002568763\n"
          ]
        }
      ],
      "source": [
        "# Make predictions on the testing set\n",
        "y_test_pred = rf_model.predict(X_test)\n",
        "\n",
        "from sklearn.metrics import mean_absolute_error\n",
        "# Calculate Mean Squared Error on the testing set\n",
        "mae_val = mean_absolute_error(y_test, y_test_pred)\n",
        "print(\"validation MSE:\", mae_val)\n"
      ]
    },
    {
      "cell_type": "code",
      "execution_count": null,
      "metadata": {
        "id": "JVjpOVpNW5sM"
      },
      "outputs": [],
      "source": [
        "new_test = test_data"
      ]
    },
    {
      "cell_type": "code",
      "execution_count": null,
      "metadata": {
        "id": "FPV62PDmWvmB"
      },
      "outputs": [],
      "source": [
        "# Make predictions on the testing set\n",
        "Test_pred = rf_model.predict(new_test)\n"
      ]
    },
    {
      "cell_type": "code",
      "execution_count": null,
      "metadata": {
        "id": "8oUSgAqJXED2"
      },
      "outputs": [],
      "source": [
        "# Create a submission file\n",
        "submission = pd.DataFrame({'ID': test['ID'], 'Sales': Test_pred})\n",
        "submission.to_csv('submission26.csv', index=False)"
      ]
    },
    {
      "cell_type": "code",
      "execution_count": null,
      "metadata": {
        "id": "VNcx2OyYmY9x"
      },
      "outputs": [],
      "source": [
        "##Data augmentation\n",
        "import numpy as np\n",
        "\n",
        "# Define data augmentation functions\n",
        "def add_noise(data, noise_level=0.01):\n",
        "    noise = np.random.normal(scale=noise_level, size=data.shape)\n",
        "    return data + noise\n",
        "\n",
        "def jitter(data, jitter_factor=0.01):\n",
        "    jitter = np.random.normal(scale=jitter_factor, size=data.shape[1])\n",
        "    return data + jitter\n",
        "\n",
        "# Assuming X_train and y_train are your training data\n",
        "# Apply data augmentation\n",
        "X_train_augmented = np.vstack([X_train, add_noise(X_train), jitter(X_train)])\n",
        "y_train_augmented = np.hstack([y_train]*3)  # Adjust the multiplication factor according to the number of augmentation techniques used\n",
        "\n",
        "# Shuffle augmented data\n",
        "shuffle_indices = np.random.permutation(len(X_train_augmented))\n",
        "X_train_augmented = X_train_augmented[shuffle_indices]\n",
        "y_train_augmented = y_train_augmented[shuffle_indices]\n",
        "\n"
      ]
    },
    {
      "cell_type": "code",
      "execution_count": null,
      "metadata": {
        "colab": {
          "background_save": true
        },
        "id": "PXDkkwx5HP34",
        "outputId": "f90433ef-e56a-4134-8333-ae5d86991da9"
      },
      "outputs": [
        {
          "name": "stderr",
          "output_type": "stream",
          "text": [
            "/usr/local/lib/python3.10/dist-packages/sklearn/base.py:432: UserWarning: X has feature names, but RandomForestRegressor was fitted without feature names\n",
            "  warnings.warn(\n"
          ]
        },
        {
          "name": "stdout",
          "output_type": "stream",
          "text": [
            "Validation MSE (with data augmentation): 593.0479561920537\n"
          ]
        }
      ],
      "source": [
        "# Now you can train your model using the augmented data\n",
        "rf_model_augmented = RandomForestRegressor(n_estimators=8000, random_state=60)\n",
        "rf_model_augmented.fit(X_train_augmented, y_train_augmented)\n",
        "\n",
        "# Evaluate the model as usual\n",
        "# For example, make predictions on the validation set\n",
        "y_val_pred_augmented = rf_model_augmented.predict(X_val)\n",
        "mae_val_augmented = mean_absolute_error(y_val, y_val_pred_augmented)\n",
        "print(\"Validation MSE (with data augmentation):\", mae_val_augmented)\n"
      ]
    },
    {
      "cell_type": "code",
      "source": [
        "Test_augmented = rf_model_augmented.predict(new_test)"
      ],
      "metadata": {
        "colab": {
          "base_uri": "https://localhost:8080/"
        },
        "id": "hQr-TV-xffl_",
        "outputId": "fb3b7c0b-5ea0-42a9-cfbd-9955fe99dfe4"
      },
      "execution_count": null,
      "outputs": [
        {
          "output_type": "stream",
          "name": "stderr",
          "text": [
            "/usr/local/lib/python3.10/dist-packages/sklearn/base.py:432: UserWarning: X has feature names, but RandomForestRegressor was fitted without feature names\n",
            "  warnings.warn(\n"
          ]
        }
      ]
    },
    {
      "cell_type": "code",
      "source": [
        "# Create a submission file\n",
        "submission = pd.DataFrame({'ID': test['ID'], 'Sales': Test_augmented})\n",
        "submission.to_csv('submission28.csv', index=False)"
      ],
      "metadata": {
        "id": "RLfrZSPmf2Ya"
      },
      "execution_count": null,
      "outputs": []
    },
    {
      "cell_type": "code",
      "execution_count": null,
      "metadata": {
        "colab": {
          "base_uri": "https://localhost:8080/"
        },
        "id": "G_9uO48VIRgO",
        "outputId": "2b283a6a-cf6c-4b99-e1d7-7a01c2ff5c9a"
      },
      "outputs": [
        {
          "name": "stdout",
          "output_type": "stream",
          "text": [
            "Mean Absolute Error (MAE) on training set: 225.3464761032831\n"
          ]
        }
      ],
      "source": [
        "import xgboost as xgb\n",
        "from sklearn.metrics import mean_absolute_error\n",
        "\n",
        "# Initialize XGBoost model\n",
        "model = xgb.XGBRegressor(n_estimators=8000, learning_rate=0.5, max_depth=4, random_state=60)\n",
        "\n",
        "# Fit the model\n",
        "model.fit(X_train, y_train)\n",
        "\n",
        "# Predict on the training set\n",
        "y_pred_train = model.predict(X_train)\n",
        "\n",
        "# Calculate Mean Absolute Error (MAE) on the training set\n",
        "mae_train = mean_absolute_error(y_train, y_pred_train)\n",
        "\n",
        "# Print the MAE\n",
        "print(\"Mean Absolute Error (MAE) on training set:\", mae_train)\n"
      ]
    },
    {
      "cell_type": "code",
      "execution_count": null,
      "metadata": {
        "id": "WhF71LKhXyNu"
      },
      "outputs": [],
      "source": [
        "# Predict on test set\n",
        "y_pred_xgboost = model.predict(new_test)"
      ]
    },
    {
      "cell_type": "code",
      "execution_count": null,
      "metadata": {
        "id": "eIpEw7iLJZrq"
      },
      "outputs": [],
      "source": [
        "# Create a DataFrame with the test predictions and 'ID' column\n",
        "submission_df = pd.DataFrame({'ID': test_data['ID'], 'Sales': y_pred_xgboost})\n",
        "\n",
        "# Save the submission DataFrame to a CSV file\n",
        "submission_df.to_csv('Submission27.csv', index=False)"
      ]
    },
    {
      "cell_type": "code",
      "execution_count": null,
      "metadata": {
        "id": "pUVdWbWHUrLw"
      },
      "outputs": [],
      "source": []
    }
  ],
  "metadata": {
    "accelerator": "GPU",
    "colab": {
      "gpuType": "T4",
      "provenance": []
    },
    "kernelspec": {
      "display_name": "Python 3",
      "name": "python3"
    },
    "language_info": {
      "name": "python"
    }
  },
  "nbformat": 4,
  "nbformat_minor": 0
}